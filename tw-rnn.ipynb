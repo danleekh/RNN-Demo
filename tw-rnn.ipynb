{
 "cells": [
  {
   "cell_type": "markdown",
   "metadata": {},
   "source": [
    "The purpose of this exercise is to demonstrate the use of RNNs using generated data. By generating data ourselves, we have more control over what we train and test the model on.\n"
   ]
  },
  {
   "cell_type": "code",
   "execution_count": 1,
   "metadata": {
    "collapsed": false
   },
   "outputs": [
    {
     "name": "stderr",
     "output_type": "stream",
     "text": [
      "Using TensorFlow backend.\n"
     ]
    }
   ],
   "source": [
    "import keras as K\n",
    "import numpy as np\n",
    "import pandas as pd\n",
    "\n",
    "from random import randint, random\n",
    "from sklearn.model_selection import train_test_split\n",
    "from keras.models import Sequential\n",
    "from keras.layers import Dense, Activation\n",
    "from keras.layers.recurrent import LSTM, SimpleRNN\n",
    "from keras import optimizers\n",
    "\n",
    "from sklearn.metrics import confusion_matrix, f1_score\n",
    "import matplotlib.pylab as plt\n"
   ]
  },
  {
   "cell_type": "markdown",
   "metadata": {
    "collapsed": true
   },
   "source": [
    "# Types of Cats"
   ]
  },
  {
   "cell_type": "markdown",
   "metadata": {},
   "source": [
    "Cats are lazy. They do only one thing every hour. There exists several types of cats. \n",
    "\n",
    "Testing that RNN's are capable of performing sequence prediction over different kinds of sequences."
   ]
  },
  {
   "cell_type": "code",
   "execution_count": 2,
   "metadata": {
    "collapsed": false
   },
   "outputs": [],
   "source": [
    "# Most cats perform one of four actions\n",
    "EAT = 0\n",
    "NAP = 1\n",
    "SCRATCH = 2 \n",
    "BEAT_UP_STINKY_DOG = 3\n",
    "\n",
    "NUM_POSSIBLE_NORMAL_ACTIONS = 4\n",
    "NUM_POSSIBLE_ACTIONS = 5"
   ]
  },
  {
   "cell_type": "code",
   "execution_count": 3,
   "metadata": {
    "collapsed": false
   },
   "outputs": [],
   "source": [
    "def next_action_round_robin(current_action): \n",
    "    return (current_action + 1) % NUM_POSSIBLE_NORMAL_ACTIONS\n",
    "\n",
    "def random_action(): \n",
    "    return randint(0, NUM_POSSIBLE_NORMAL_ACTIONS - 1)"
   ]
  },
  {
   "cell_type": "code",
   "execution_count": 4,
   "metadata": {
    "collapsed": true
   },
   "outputs": [],
   "source": [
    "# Predictable Cat behaves in a round robin fashion. Robin... how ironic. \n",
    "def predictable_cat():\n",
    "    action = random_action()\n",
    "    while True: \n",
    "        yield action\n",
    "        action = next_action_round_robin(action)"
   ]
  },
  {
   "cell_type": "code",
   "execution_count": 5,
   "metadata": {
    "collapsed": true
   },
   "outputs": [],
   "source": [
    "# OCD Cat does everything in threes, no more, no less...\n",
    "def ocd_cat(): \n",
    "    action = random_action()\n",
    "    while True: \n",
    "        yield action\n",
    "        yield action\n",
    "        yield action\n",
    "        action = next_action_round_robin(action)"
   ]
  },
  {
   "cell_type": "code",
   "execution_count": 6,
   "metadata": {
    "collapsed": true
   },
   "outputs": [],
   "source": [
    "# Unpredictable cat performs a random action sometimes, and resumes the sequence from there\n",
    "# This adds some noise to our data, the RNN seems robust to that based on accuracy score. \n",
    "# On hindsight, should have tagged the cats to check which ones get misclassified.\n",
    "def unpredictable_cat():\n",
    "    action = random_action()\n",
    "    while True:\n",
    "        action = next_action_round_robin(action) if random() < 0.5 else random_action()\n",
    "        yield action"
   ]
  },
  {
   "cell_type": "code",
   "execution_count": 7,
   "metadata": {
    "collapsed": true
   },
   "outputs": [],
   "source": [
    "# Smelly Cat raids the dumpster every other action\n",
    "RAID_DUMPSTER = 4\n",
    "\n",
    "def smelly_cat():\n",
    "    action = random_action()\n",
    "    while True:\n",
    "        yield action\n",
    "        yield RAID_DUMPSTER\n",
    "        action = next_action_round_robin(action)"
   ]
  },
  {
   "cell_type": "code",
   "execution_count": 8,
   "metadata": {
    "collapsed": false
   },
   "outputs": [
    {
     "name": "stdout",
     "output_type": "stream",
     "text": [
      "[1, 4, 2, 4, 3, 4, 0, 4, 1, 4, 2, 4, 3, 4, 0, 4, 1, 4, 2, 4]\n"
     ]
    }
   ],
   "source": [
    "# Let's have a look at Smelly Cat's day\n",
    "cat = smelly_cat()\n",
    "smelly_actions = [next(cat) for i in range(0,20)]\n",
    "print(smelly_actions)"
   ]
  },
  {
   "cell_type": "code",
   "execution_count": 9,
   "metadata": {
    "collapsed": false
   },
   "outputs": [],
   "source": [
    "def cat_randomizer(with_noise = False):\n",
    "    cat_gens = [predictable_cat, ocd_cat, smelly_cat]\n",
    "    if with_noise:\n",
    "        cat_gens += [unpredictable_cat]\n",
    "\n",
    "    while True:\n",
    "        yield cat_gens[randint(0, len(cat_gens) - 1)]()"
   ]
  },
  {
   "cell_type": "code",
   "execution_count": 10,
   "metadata": {
    "collapsed": true
   },
   "outputs": [],
   "source": [
    "def actions_for(cat, num_actions):\n",
    "    return [next(cat) for i in range(0, num_actions)]"
   ]
  },
  {
   "cell_type": "markdown",
   "metadata": {},
   "source": [
    "# Data Preparation"
   ]
  },
  {
   "cell_type": "markdown",
   "metadata": {},
   "source": [
    "We will use one-hot encoding to represent actions."
   ]
  },
  {
   "cell_type": "code",
   "execution_count": 11,
   "metadata": {
    "collapsed": true
   },
   "outputs": [],
   "source": [
    "def one_hot(labels, num_classes): \n",
    "    return [[1 if i == label else 0 for i in range(0, num_classes)] for label in labels]"
   ]
  },
  {
   "cell_type": "code",
   "execution_count": 12,
   "metadata": {
    "collapsed": false
   },
   "outputs": [
    {
     "data": {
      "text/plain": [
       "[[0, 1, 0, 0, 0],\n",
       " [0, 0, 0, 0, 1],\n",
       " [0, 0, 1, 0, 0],\n",
       " [0, 0, 0, 0, 1],\n",
       " [0, 0, 0, 1, 0],\n",
       " [0, 0, 0, 0, 1],\n",
       " [1, 0, 0, 0, 0],\n",
       " [0, 0, 0, 0, 1],\n",
       " [0, 1, 0, 0, 0],\n",
       " [0, 0, 0, 0, 1],\n",
       " [0, 0, 1, 0, 0],\n",
       " [0, 0, 0, 0, 1],\n",
       " [0, 0, 0, 1, 0],\n",
       " [0, 0, 0, 0, 1],\n",
       " [1, 0, 0, 0, 0],\n",
       " [0, 0, 0, 0, 1],\n",
       " [0, 1, 0, 0, 0],\n",
       " [0, 0, 0, 0, 1],\n",
       " [0, 0, 1, 0, 0],\n",
       " [0, 0, 0, 0, 1]]"
      ]
     },
     "execution_count": 12,
     "metadata": {},
     "output_type": "execute_result"
    }
   ],
   "source": [
    "one_hot(smelly_actions, NUM_POSSIBLE_ACTIONS)"
   ]
  },
  {
   "cell_type": "markdown",
   "metadata": {},
   "source": [
    "And now for some kitty action!"
   ]
  },
  {
   "cell_type": "code",
   "execution_count": 13,
   "metadata": {
    "collapsed": true
   },
   "outputs": [],
   "source": [
    "def bring_me_some_cats(cat_count):\n",
    "    rand_cat = cat_randomizer(True)\n",
    "    for i in range(0, cat_count):\n",
    "        yield next(rand_cat)"
   ]
  },
  {
   "cell_type": "code",
   "execution_count": 14,
   "metadata": {
    "collapsed": false
   },
   "outputs": [],
   "source": [
    "num_actions = 51\n",
    "num_cats = 500\n",
    "kitties_actions = [one_hot(actions_for(cat, num_actions), NUM_POSSIBLE_ACTIONS) for cat in bring_me_some_cats(num_cats)]"
   ]
  },
  {
   "cell_type": "markdown",
   "metadata": {},
   "source": [
    "Splice out the last action, this is the \"label\" that we want to predict."
   ]
  },
  {
   "cell_type": "code",
   "execution_count": 15,
   "metadata": {
    "collapsed": true
   },
   "outputs": [],
   "source": [
    "X = kitties_initial_actions = [k[:num_actions - 1] for k in kitties_actions]\n",
    "y = kitties_last_action = [k[-1] for k in kitties_actions]"
   ]
  },
  {
   "cell_type": "code",
   "execution_count": 16,
   "metadata": {
    "collapsed": false
   },
   "outputs": [
    {
     "data": {
      "text/plain": [
       "[[0, 1, 0, 0, 0],\n",
       " [0, 0, 0, 0, 1],\n",
       " [0, 0, 1, 0, 0],\n",
       " [0, 0, 0, 0, 1],\n",
       " [0, 0, 0, 1, 0],\n",
       " [0, 0, 0, 0, 1],\n",
       " [1, 0, 0, 0, 0],\n",
       " [0, 0, 0, 0, 1],\n",
       " [0, 1, 0, 0, 0],\n",
       " [0, 0, 0, 0, 1],\n",
       " [0, 0, 1, 0, 0],\n",
       " [0, 0, 0, 0, 1],\n",
       " [0, 0, 0, 1, 0],\n",
       " [0, 0, 0, 0, 1],\n",
       " [1, 0, 0, 0, 0],\n",
       " [0, 0, 0, 0, 1],\n",
       " [0, 1, 0, 0, 0],\n",
       " [0, 0, 0, 0, 1],\n",
       " [0, 0, 1, 0, 0],\n",
       " [0, 0, 0, 0, 1]]"
      ]
     },
     "execution_count": 16,
     "metadata": {},
     "output_type": "execute_result"
    }
   ],
   "source": [
    "one_hot(smelly_actions, NUM_POSSIBLE_ACTIONS)"
   ]
  },
  {
   "cell_type": "markdown",
   "metadata": {},
   "source": [
    "And now for some kitty action!"
   ]
  },
  {
   "cell_type": "code",
   "execution_count": 17,
   "metadata": {
    "collapsed": true
   },
   "outputs": [],
   "source": [
    "def bring_me_some_cats(cat_count):\n",
    "    rand_cat = cat_randomizer()\n",
    "    for i in range(0, cat_count):\n",
    "        yield next(rand_cat)"
   ]
  },
  {
   "cell_type": "code",
   "execution_count": 18,
   "metadata": {
    "collapsed": false
   },
   "outputs": [],
   "source": [
    "num_actions = 51\n",
    "num_cats = 500\n",
    "kitties_actions = [one_hot(actions_for(cat, num_actions), NUM_POSSIBLE_ACTIONS) for cat in bring_me_some_cats(num_cats)]"
   ]
  },
  {
   "cell_type": "code",
   "execution_count": 19,
   "metadata": {
    "collapsed": false
   },
   "outputs": [],
   "source": [
    "def plot_kitty_actions(actions): #punintended\n",
    "    actions_decoded = np.argmax(actions, axis=2)\n",
    "    fig = plt.figure()\n",
    "    ax = fig.add_subplot(1,1,1)\n",
    "    plt.imshow(actions_decoded, interpolation='nearest', cmap=plt.cm.magma)\n",
    "    plt.colorbar()\n",
    "    plt.show()"
   ]
  },
  {
   "cell_type": "code",
   "execution_count": 20,
   "metadata": {
    "collapsed": false
   },
   "outputs": [
    {
     "data": {
      "image/png": "[encoded data removed]",
      "text/plain": [
       "<matplotlib.figure.Figure at 0x117dfd940>"
      ]
     },
     "metadata": {},
     "output_type": "display_data"
    }
   ],
   "source": [
    "plot_kitty_actions(kitties_actions[:50])"
   ]
  },
  {
   "cell_type": "markdown",
   "metadata": {},
   "source": [
    "Splice out the last action, this is the \"label\" that we want to predict."
   ]
  },
  {
   "cell_type": "code",
   "execution_count": 21,
   "metadata": {
    "collapsed": false
   },
   "outputs": [],
   "source": [
    "X = kitties_initial_actions = [k[:num_actions - 1] for k in kitties_actions]\n",
    "y = kitties_last_action = [k[-1] for k in kitties_actions]"
   ]
  },
  {
   "cell_type": "markdown",
   "metadata": {},
   "source": [
    "Split the data set into a training set and test set."
   ]
  },
  {
   "cell_type": "code",
   "execution_count": 22,
   "metadata": {
    "collapsed": true,
    "scrolled": true
   },
   "outputs": [],
   "source": [
    "X_train, X_test, y_train, y_test = train_test_split(X, y, test_size = 0.25, random_state=0)"
   ]
  },
  {
   "cell_type": "markdown",
   "metadata": {},
   "source": [
    "# Construct Model"
   ]
  },
  {
   "cell_type": "markdown",
   "metadata": {},
   "source": [
    "## Model Hyperparameters"
   ]
  },
  {
   "cell_type": "code",
   "execution_count": 23,
   "metadata": {
    "collapsed": true
   },
   "outputs": [],
   "source": [
    "EPOCHS = 120\n",
    "HIDDEN = 10"
   ]
  },
  {
   "cell_type": "code",
   "execution_count": 24,
   "metadata": {
    "collapsed": false
   },
   "outputs": [],
   "source": [
    "model = Sequential()\n",
    "model.add(SimpleRNN(HIDDEN, input_shape=[50, 5]))\n",
    "model.add(Dense(5, activation='softmax'))\n",
    "\n",
    "model.compile(optimizer='adam',\n",
    "              loss='categorical_crossentropy',\n",
    "              metrics=['accuracy'])"
   ]
  },
  {
   "cell_type": "code",
   "execution_count": 25,
   "metadata": {
    "collapsed": false
   },
   "outputs": [
    {
     "name": "stdout",
     "output_type": "stream",
     "text": [
      "Epoch 1/120\n",
      "375/375 [==============================] - 0s - loss: 1.8830 - acc: 0.1573     \n",
      "Epoch 2/120\n",
      "375/375 [==============================] - 0s - loss: 1.8287 - acc: 0.1573     \n",
      "Epoch 3/120\n",
      "375/375 [==============================] - 0s - loss: 1.7749 - acc: 0.1573     \n",
      "Epoch 4/120\n",
      "375/375 [==============================] - 0s - loss: 1.7269 - acc: 0.1573     \n",
      "Epoch 5/120\n",
      "375/375 [==============================] - 0s - loss: 1.6812 - acc: 0.1573     \n",
      "Epoch 6/120\n",
      "375/375 [==============================] - 0s - loss: 1.6396 - acc: 0.2693     \n",
      "Epoch 7/120\n",
      "375/375 [==============================] - 0s - loss: 1.6010 - acc: 0.3200     \n",
      "Epoch 8/120\n",
      "375/375 [==============================] - 0s - loss: 1.5651 - acc: 0.3707     \n",
      "Epoch 9/120\n",
      "375/375 [==============================] - 0s - loss: 1.5333 - acc: 0.4053     \n",
      "Epoch 10/120\n",
      "375/375 [==============================] - 0s - loss: 1.5038 - acc: 0.4053     \n",
      "Epoch 11/120\n",
      "375/375 [==============================] - 0s - loss: 1.4791 - acc: 0.4053     \n",
      "Epoch 12/120\n",
      "375/375 [==============================] - 0s - loss: 1.4548 - acc: 0.4053     \n",
      "Epoch 13/120\n",
      "375/375 [==============================] - 0s - loss: 1.4320 - acc: 0.4053     \n",
      "Epoch 14/120\n",
      "375/375 [==============================] - 0s - loss: 1.4108 - acc: 0.4053     \n",
      "Epoch 15/120\n",
      "375/375 [==============================] - 0s - loss: 1.3896 - acc: 0.4053     \n",
      "Epoch 16/120\n",
      "375/375 [==============================] - 0s - loss: 1.3684 - acc: 0.4053     \n",
      "Epoch 17/120\n",
      "375/375 [==============================] - 0s - loss: 1.3473 - acc: 0.4053     \n",
      "Epoch 18/120\n",
      "375/375 [==============================] - 0s - loss: 1.3263 - acc: 0.4053     \n",
      "Epoch 19/120\n",
      "375/375 [==============================] - 0s - loss: 1.3051 - acc: 0.4667     \n",
      "Epoch 20/120\n",
      "375/375 [==============================] - 0s - loss: 1.2839 - acc: 0.4933     \n",
      "Epoch 21/120\n",
      "375/375 [==============================] - 0s - loss: 1.2619 - acc: 0.5493     \n",
      "Epoch 22/120\n",
      "375/375 [==============================] - 0s - loss: 1.2391 - acc: 0.5760     \n",
      "Epoch 23/120\n",
      "375/375 [==============================] - 0s - loss: 1.2162 - acc: 0.5760     \n",
      "Epoch 24/120\n",
      "375/375 [==============================] - 0s - loss: 1.1929 - acc: 0.5760     \n",
      "Epoch 25/120\n",
      "375/375 [==============================] - 0s - loss: 1.1692 - acc: 0.5760     \n",
      "Epoch 26/120\n",
      "375/375 [==============================] - 0s - loss: 1.1458 - acc: 0.5760     \n",
      "Epoch 27/120\n",
      "375/375 [==============================] - 0s - loss: 1.1224 - acc: 0.6160     \n",
      "Epoch 28/120\n",
      "375/375 [==============================] - 0s - loss: 1.0987 - acc: 0.6613     \n",
      "Epoch 29/120\n",
      "375/375 [==============================] - 0s - loss: 1.0753 - acc: 0.6613     \n",
      "Epoch 30/120\n",
      "375/375 [==============================] - 0s - loss: 1.0517 - acc: 0.7280     \n",
      "Epoch 31/120\n",
      "375/375 [==============================] - 0s - loss: 1.0268 - acc: 0.7493     \n",
      "Epoch 32/120\n",
      "375/375 [==============================] - 0s - loss: 0.9996 - acc: 0.7493     \n",
      "Epoch 33/120\n",
      "375/375 [==============================] - 0s - loss: 0.9690 - acc: 0.7493     \n",
      "Epoch 34/120\n",
      "375/375 [==============================] - 0s - loss: 0.9436 - acc: 0.7493     \n",
      "Epoch 35/120\n",
      "375/375 [==============================] - 0s - loss: 0.9199 - acc: 0.8053     \n",
      "Epoch 36/120\n",
      "375/375 [==============================] - 0s - loss: 0.8943 - acc: 0.8507     \n",
      "Epoch 37/120\n",
      "375/375 [==============================] - 0s - loss: 0.8716 - acc: 0.9200     \n",
      "Epoch 38/120\n",
      "375/375 [==============================] - 0s - loss: 0.8472 - acc: 0.9200     \n",
      "Epoch 39/120\n",
      "375/375 [==============================] - 0s - loss: 0.8249 - acc: 0.9200     \n",
      "Epoch 40/120\n",
      "375/375 [==============================] - 0s - loss: 0.8045 - acc: 0.9200     \n",
      "Epoch 41/120\n",
      "375/375 [==============================] - 0s - loss: 0.7829 - acc: 0.9200     \n",
      "Epoch 42/120\n",
      "375/375 [==============================] - 0s - loss: 0.7638 - acc: 0.9200     \n",
      "Epoch 43/120\n",
      "375/375 [==============================] - 0s - loss: 0.7450 - acc: 0.9200     \n",
      "Epoch 44/120\n",
      "375/375 [==============================] - 0s - loss: 0.7265 - acc: 0.9200     \n",
      "Epoch 45/120\n",
      "375/375 [==============================] - 0s - loss: 0.7091 - acc: 0.9200     \n",
      "Epoch 46/120\n",
      "375/375 [==============================] - 0s - loss: 0.6920 - acc: 0.9200     \n",
      "Epoch 47/120\n",
      "375/375 [==============================] - 0s - loss: 0.6753 - acc: 0.9200     \n",
      "Epoch 48/120\n",
      "375/375 [==============================] - 0s - loss: 0.6591 - acc: 0.9200     \n",
      "Epoch 49/120\n",
      "375/375 [==============================] - 0s - loss: 0.6435 - acc: 0.9200     \n",
      "Epoch 50/120\n",
      "375/375 [==============================] - 0s - loss: 0.6279 - acc: 0.9200     \n",
      "Epoch 51/120\n",
      "375/375 [==============================] - 0s - loss: 0.6128 - acc: 0.9200     \n",
      "Epoch 52/120\n",
      "375/375 [==============================] - 0s - loss: 0.5983 - acc: 0.9200     \n",
      "Epoch 53/120\n",
      "375/375 [==============================] - 0s - loss: 0.5838 - acc: 0.9387     \n",
      "Epoch 54/120\n",
      "375/375 [==============================] - 0s - loss: 0.5700 - acc: 1.0000     \n",
      "Epoch 55/120\n",
      "375/375 [==============================] - 0s - loss: 0.5568 - acc: 1.0000     \n",
      "Epoch 56/120\n",
      "375/375 [==============================] - 0s - loss: 0.5439 - acc: 1.0000     \n",
      "Epoch 57/120\n",
      "375/375 [==============================] - 0s - loss: 0.5313 - acc: 1.0000     \n",
      "Epoch 58/120\n",
      "375/375 [==============================] - 0s - loss: 0.5191 - acc: 1.0000     \n",
      "Epoch 59/120\n",
      "375/375 [==============================] - 0s - loss: 0.5073 - acc: 1.0000     \n",
      "Epoch 60/120\n",
      "375/375 [==============================] - 0s - loss: 0.4959 - acc: 1.0000     \n",
      "Epoch 61/120\n",
      "375/375 [==============================] - 0s - loss: 0.4844 - acc: 1.0000     \n",
      "Epoch 62/120\n",
      "375/375 [==============================] - 0s - loss: 0.4736 - acc: 1.0000     \n",
      "Epoch 63/120\n",
      "375/375 [==============================] - 0s - loss: 0.4630 - acc: 1.0000     \n",
      "Epoch 64/120\n",
      "375/375 [==============================] - 0s - loss: 0.4526 - acc: 1.0000     \n",
      "Epoch 65/120\n",
      "375/375 [==============================] - 0s - loss: 0.4428 - acc: 1.0000     \n",
      "Epoch 66/120\n",
      "375/375 [==============================] - 0s - loss: 0.4329 - acc: 1.0000     \n",
      "Epoch 67/120\n",
      "375/375 [==============================] - 0s - loss: 0.4234 - acc: 1.0000     \n",
      "Epoch 68/120\n",
      "375/375 [==============================] - 0s - loss: 0.4141 - acc: 1.0000     \n",
      "Epoch 69/120\n",
      "375/375 [==============================] - 0s - loss: 0.4049 - acc: 1.0000     \n",
      "Epoch 70/120\n",
      "375/375 [==============================] - 0s - loss: 0.3960 - acc: 1.0000     \n",
      "Epoch 71/120\n",
      "375/375 [==============================] - 0s - loss: 0.3874 - acc: 1.0000     \n",
      "Epoch 72/120\n",
      "375/375 [==============================] - 0s - loss: 0.3788 - acc: 1.0000     \n",
      "Epoch 73/120\n",
      "375/375 [==============================] - 0s - loss: 0.3711 - acc: 1.0000     \n",
      "Epoch 74/120\n",
      "375/375 [==============================] - 0s - loss: 0.3716 - acc: 1.0000     \n",
      "Epoch 75/120\n",
      "375/375 [==============================] - 0s - loss: 0.3643 - acc: 1.0000     \n",
      "Epoch 76/120\n",
      "375/375 [==============================] - 0s - loss: 0.3570 - acc: 1.0000     \n",
      "Epoch 77/120\n",
      "375/375 [==============================] - 0s - loss: 0.3478 - acc: 1.0000     \n",
      "Epoch 78/120\n",
      "375/375 [==============================] - 0s - loss: 0.3485 - acc: 1.0000     \n",
      "Epoch 79/120\n",
      "375/375 [==============================] - 0s - loss: 0.3410 - acc: 1.0000     \n",
      "Epoch 80/120\n",
      "375/375 [==============================] - 0s - loss: 0.3361 - acc: 1.0000     \n",
      "Epoch 81/120\n",
      "375/375 [==============================] - 0s - loss: 0.3253 - acc: 1.0000     \n",
      "Epoch 82/120\n",
      "375/375 [==============================] - 0s - loss: 0.3187 - acc: 1.0000     \n",
      "Epoch 83/120\n",
      "375/375 [==============================] - 0s - loss: 0.3093 - acc: 1.0000     \n",
      "Epoch 84/120\n",
      "375/375 [==============================] - 0s - loss: 0.3046 - acc: 1.0000     \n",
      "Epoch 85/120\n",
      "375/375 [==============================] - 0s - loss: 0.3003 - acc: 1.0000     \n",
      "Epoch 86/120\n",
      "375/375 [==============================] - 0s - loss: 0.2955 - acc: 1.0000     \n",
      "Epoch 87/120\n",
      "375/375 [==============================] - 0s - loss: 0.2967 - acc: 1.0000     \n",
      "Epoch 88/120\n",
      "375/375 [==============================] - 0s - loss: 0.2915 - acc: 1.0000     \n",
      "Epoch 89/120\n",
      "375/375 [==============================] - 0s - loss: 0.2878 - acc: 1.0000     \n",
      "Epoch 90/120\n",
      "375/375 [==============================] - 0s - loss: 0.2820 - acc: 1.0000     \n",
      "Epoch 91/120\n",
      "375/375 [==============================] - 0s - loss: 0.2772 - acc: 1.0000     \n",
      "Epoch 92/120\n",
      "375/375 [==============================] - 0s - loss: 0.2737 - acc: 1.0000     \n",
      "Epoch 93/120\n",
      "375/375 [==============================] - 0s - loss: 0.2686 - acc: 1.0000     \n",
      "Epoch 94/120\n",
      "375/375 [==============================] - 0s - loss: 0.2620 - acc: 1.0000     \n",
      "Epoch 95/120\n",
      "375/375 [==============================] - 0s - loss: 0.2572 - acc: 1.0000     \n",
      "Epoch 96/120\n",
      "375/375 [==============================] - 0s - loss: 0.2569 - acc: 1.0000     \n",
      "Epoch 97/120\n",
      "375/375 [==============================] - 0s - loss: 0.2513 - acc: 1.0000     \n",
      "Epoch 98/120\n",
      "375/375 [==============================] - 0s - loss: 0.2478 - acc: 1.0000     \n",
      "Epoch 99/120\n",
      "375/375 [==============================] - 0s - loss: 0.2437 - acc: 1.0000     \n",
      "Epoch 100/120\n",
      "375/375 [==============================] - 0s - loss: 0.2410 - acc: 1.0000     \n",
      "Epoch 101/120\n",
      "375/375 [==============================] - 0s - loss: 0.2377 - acc: 1.0000     \n",
      "Epoch 102/120\n",
      "375/375 [==============================] - 0s - loss: 0.2335 - acc: 1.0000     \n",
      "Epoch 103/120\n",
      "375/375 [==============================] - 0s - loss: 0.2299 - acc: 1.0000     \n",
      "Epoch 104/120\n",
      "375/375 [==============================] - 0s - loss: 0.2258 - acc: 1.0000     \n",
      "Epoch 105/120\n",
      "375/375 [==============================] - 0s - loss: 0.2219 - acc: 1.0000     \n",
      "Epoch 106/120\n",
      "375/375 [==============================] - 0s - loss: 0.2180 - acc: 1.0000     \n",
      "Epoch 107/120\n",
      "375/375 [==============================] - 0s - loss: 0.2144 - acc: 1.0000     \n",
      "Epoch 108/120\n",
      "375/375 [==============================] - 0s - loss: 0.2111 - acc: 1.0000     \n",
      "Epoch 109/120\n",
      "375/375 [==============================] - 0s - loss: 0.2077 - acc: 1.0000     \n",
      "Epoch 110/120\n",
      "375/375 [==============================] - 0s - loss: 0.2045 - acc: 1.0000     \n",
      "Epoch 111/120\n",
      "375/375 [==============================] - 0s - loss: 0.2012 - acc: 1.0000     \n",
      "Epoch 112/120\n",
      "375/375 [==============================] - 0s - loss: 0.1979 - acc: 1.0000     \n",
      "Epoch 113/120\n",
      "375/375 [==============================] - 0s - loss: 0.1941 - acc: 1.0000     \n",
      "Epoch 114/120\n",
      "375/375 [==============================] - 0s - loss: 0.1913 - acc: 1.0000     \n",
      "Epoch 115/120\n",
      "375/375 [==============================] - 0s - loss: 0.1898 - acc: 1.0000     \n",
      "Epoch 116/120\n",
      "375/375 [==============================] - 0s - loss: 0.1872 - acc: 1.0000     \n",
      "Epoch 117/120\n",
      "375/375 [==============================] - 0s - loss: 0.1874 - acc: 1.0000     \n",
      "Epoch 118/120\n",
      "375/375 [==============================] - 0s - loss: 0.1841 - acc: 1.0000     \n",
      "Epoch 119/120\n",
      "375/375 [==============================] - 0s - loss: 0.1813 - acc: 1.0000     \n",
      "Epoch 120/120\n",
      "375/375 [==============================] - 0s - loss: 0.1793 - acc: 1.0000     \n"
     ]
    },
    {
     "data": {
      "text/plain": [
       "<keras.callbacks.History at 0x118762e48>"
      ]
     },
     "execution_count": 25,
     "metadata": {},
     "output_type": "execute_result"
    }
   ],
   "source": [
    "model.fit(X_train, y_train, epochs=EPOCHS, batch_size=100)"
   ]
  },
  {
   "cell_type": "markdown",
   "metadata": {},
   "source": [
    "# Model Evaluation"
   ]
  },
  {
   "cell_type": "code",
   "execution_count": 26,
   "metadata": {
    "collapsed": true
   },
   "outputs": [],
   "source": [
    "def label_from_vector(v): \n",
    "    return np.argmax(v)"
   ]
  },
  {
   "cell_type": "code",
   "execution_count": 27,
   "metadata": {
    "collapsed": false
   },
   "outputs": [
    {
     "data": {
      "text/plain": [
       "array([[ 0.04020264,  0.06491155,  0.79880697,  0.07932872,  0.01675008],\n",
       "       [ 0.10174742,  0.01105226,  0.17790852,  0.66927785,  0.040014  ],\n",
       "       [ 0.00997688,  0.91454339,  0.06265557,  0.0088189 ,  0.00400524]], dtype=float32)"
      ]
     },
     "execution_count": 27,
     "metadata": {},
     "output_type": "execute_result"
    }
   ],
   "source": [
    "y_predicted = model.predict(X_test)\n",
    "y_predicted[:3]"
   ]
  },
  {
   "cell_type": "code",
   "execution_count": 28,
   "metadata": {
    "collapsed": false
   },
   "outputs": [],
   "source": [
    "actual_labels = [label_from_vector(yt) for yt in y_test]\n",
    "predicted_labels = [label_from_vector(yp) for yp in y_predicted]"
   ]
  },
  {
   "cell_type": "code",
   "execution_count": 29,
   "metadata": {
    "collapsed": false
   },
   "outputs": [
    {
     "data": {
      "text/plain": [
       "array([[33,  0,  0,  0],\n",
       "       [ 0, 27,  0,  0],\n",
       "       [ 0,  0, 32,  0],\n",
       "       [ 0,  0,  0, 33]])"
      ]
     },
     "execution_count": 29,
     "metadata": {},
     "output_type": "execute_result"
    }
   ],
   "source": [
    "confusion_matrix(actual_labels, predicted_labels)"
   ]
  },
  {
   "cell_type": "code",
   "execution_count": 30,
   "metadata": {
    "collapsed": false
   },
   "outputs": [
    {
     "data": {
      "text/plain": [
       "1.0"
      ]
     },
     "execution_count": 30,
     "metadata": {},
     "output_type": "execute_result"
    }
   ],
   "source": [
    "f1_score(actual_labels, predicted_labels, average='macro')"
   ]
  },
  {
   "cell_type": "markdown",
   "metadata": {
    "collapsed": true
   },
   "source": [
    "# Sometimes, cats' behaviors depend on the weather"
   ]
  },
  {
   "cell_type": "markdown",
   "metadata": {},
   "source": [
    "The purpose of this section is (still unrealized) two-fold. \n",
    "1) Show the effectiveness on LSTMs on tasks that RNN's cannot handle (long sequences where associations are separated far in time),\n",
    "2) Incorporate an input (weather) at each time step and in combination with past history, make a prediction.\n",
    "\n",
    "Note: I have tried varying the data some ways, but have not yet found a case where LSTMs outperform simple RNN's. "
   ]
  },
  {
   "cell_type": "code",
   "execution_count": 31,
   "metadata": {
    "collapsed": true
   },
   "outputs": [],
   "source": [
    "SUNNY = 0\n",
    "RAINY = 1    "
   ]
  },
  {
   "cell_type": "code",
   "execution_count": 32,
   "metadata": {
    "collapsed": true
   },
   "outputs": [],
   "source": [
    "def sunny_rainy_sunny(rainy_period_start, rainy_duration):\n",
    "    for i in range(0, rainy_period_start):\n",
    "        yield SUNNY\n",
    "    for i in range(0, rainy_duration):\n",
    "        yield RAINY\n",
    "    while True: \n",
    "        yield SUNNY"
   ]
  },
  {
   "cell_type": "code",
   "execution_count": 33,
   "metadata": {
    "collapsed": true
   },
   "outputs": [],
   "source": [
    "def rain_cat(weather):\n",
    "    action = random_action()\n",
    "    while True:\n",
    "        if next(weather) == RAINY: \n",
    "            yield NAP\n",
    "        else:\n",
    "            yield action\n",
    "            action = next_action_round_robin(action)"
   ]
  },
  {
   "cell_type": "code",
   "execution_count": 74,
   "metadata": {
    "collapsed": false
   },
   "outputs": [],
   "source": [
    "import functools\n",
    "\n",
    "def random_weather_sequence():\n",
    "    rain_start = randint(30, 40) # grow and shrink the window size and see how the LSTM responds\n",
    "    srs = sunny_rainy_sunny(rain_start, num_actions - rain_start - 1)\n",
    "    return srs\n",
    "\n",
    "rain_cats = [rain_cat(random_weather_sequence()) for i in range(250)]\n",
    "rain_cats_actions = [one_hot(actions_for(cat, num_actions), NUM_POSSIBLE_NORMAL_ACTIONS) for cat in rain_cats]\n"
   ]
  },
  {
   "cell_type": "code",
   "execution_count": 75,
   "metadata": {
    "collapsed": false
   },
   "outputs": [
    {
     "data": {
      "image/png": "[encoded data removed]",
      "text/plain": [
       "<matplotlib.figure.Figure at 0x11bb2ad68>"
      ]
     },
     "metadata": {},
     "output_type": "display_data"
    }
   ],
   "source": [
    "plot_kitty_actions(rain_cats_actions[:50])"
   ]
  },
  {
   "cell_type": "code",
   "execution_count": 76,
   "metadata": {
    "collapsed": false
   },
   "outputs": [],
   "source": [
    "X = rain_cats_initial_actions = [k[:num_actions - 1] for k in rain_cats_actions]\n",
    "y = rain_cats_last_action = [k[-1] for k in rain_cats_actions]"
   ]
  },
  {
   "cell_type": "markdown",
   "metadata": {},
   "source": [
    "Split the data set into a training set and test set."
   ]
  },
  {
   "cell_type": "code",
   "execution_count": 77,
   "metadata": {
    "collapsed": true,
    "scrolled": true
   },
   "outputs": [],
   "source": [
    "X_train, X_test, y_train, y_test = train_test_split(X, y, test_size = 0.25, random_state=0)"
   ]
  },
  {
   "cell_type": "markdown",
   "metadata": {},
   "source": [
    "# Construct Model"
   ]
  },
  {
   "cell_type": "markdown",
   "metadata": {},
   "source": [
    "## Model Hyperparameters & Construction"
   ]
  },
  {
   "cell_type": "code",
   "execution_count": 78,
   "metadata": {
    "collapsed": true
   },
   "outputs": [],
   "source": [
    "EPOCHS = 250\n",
    "HIDDEN = 20"
   ]
  },
  {
   "cell_type": "code",
   "execution_count": 79,
   "metadata": {
    "collapsed": false
   },
   "outputs": [],
   "source": [
    "def build_model(type):\n",
    "    model = Sequential()\n",
    "    input_shape = [num_actions - 1, NUM_POSSIBLE_NORMAL_ACTIONS]\n",
    "    \n",
    "    if type == \"simple\":\n",
    "        model.add(SimpleRNN(HIDDEN, input_shape=input_shape, activation=\"relu\", recurrent_initializer=\"random_uniform\"))\n",
    "    elif type == \"LSTM\":\n",
    "        model.add(LSTM(HIDDEN, input_shape=input_shape, activation=\"relu\", recurrent_activation=\"sigmoid\", recurrent_initializer=\"random_uniform\"))\n",
    "    elif type == \"LSTM64\":\n",
    "        model.add(LSTM(64, input_dim=64, input_length=10, return_sequences=True))\n",
    "    else:\n",
    "        raise Error(\"invalid layer type\")\n",
    "        \n",
    "    opt = optimizers.Adam(clipvalue=1.0, lr=0.003, decay=0.02) \n",
    "    model.add(Dense(NUM_POSSIBLE_NORMAL_ACTIONS, activation='softmax'))\n",
    "    model.compile(optimizer=opt,\n",
    "                  loss='categorical_crossentropy',\n",
    "                  metrics=['accuracy'])\n",
    "    return model"
   ]
  },
  {
   "cell_type": "code",
   "execution_count": 80,
   "metadata": {
    "collapsed": false
   },
   "outputs": [],
   "source": [
    "def train(model, X_train, y_train):\n",
    "    model.fit(X_train, y_train, epochs=EPOCHS, batch_size=100)"
   ]
  },
  {
   "cell_type": "code",
   "execution_count": 81,
   "metadata": {
    "collapsed": true
   },
   "outputs": [],
   "source": [
    "def evaluate(model, X_test, y_test):\n",
    "    y_predicted = model.predict(X_test)\n",
    "    actual_labels = [np.argmax(yt) for yt in y_test]\n",
    "    predicted_labels = [np.argmax(yp) for yp in y_predicted]\n",
    "    conf_matrix = confusion_matrix(actual_labels, predicted_labels)\n",
    "    score = f1_score(actual_labels, predicted_labels, average='macro')\n",
    "    print(conf_matrix)\n",
    "    print(score)"
   ]
  },
  {
   "cell_type": "markdown",
   "metadata": {},
   "source": [
    "# Model Comparison"
   ]
  },
  {
   "cell_type": "code",
   "execution_count": 82,
   "metadata": {
    "collapsed": false
   },
   "outputs": [],
   "source": [
    "def train_and_eval(type):\n",
    "    K.backend.clear_session()  # learning rate is practically zero if re-running LSTM without this\n",
    "    print(\"Evaluating {}\".format(type))\n",
    "    model = build_model(type)\n",
    "    train(model, X_train, y_train)\n",
    "    evaluate(model, X_test, y_test)"
   ]
  },
  {
   "cell_type": "code",
   "execution_count": null,
   "metadata": {
    "collapsed": false
   },
   "outputs": [
    {
     "name": "stdout",
     "output_type": "stream",
     "text": [
      "Evaluating simple\n",
      "Epoch 1/250\n",
      "187/187 [==============================] - 0s - loss: 1.4041 - acc: 0.2727     \n",
      "Epoch 2/250\n",
      "187/187 [==============================] - 0s - loss: 1.3938 - acc: 0.2727     \n",
      "Epoch 3/250\n",
      "187/187 [==============================] - 0s - loss: 1.3849 - acc: 0.2727     \n",
      "Epoch 4/250\n",
      "187/187 [==============================] - 0s - loss: 1.3786 - acc: 0.2727     \n",
      "Epoch 5/250\n",
      "187/187 [==============================] - 0s - loss: 1.3739 - acc: 0.2727     \n",
      "Epoch 6/250\n",
      "187/187 [==============================] - 0s - loss: 1.3717 - acc: 0.2727     \n",
      "Epoch 7/250\n",
      "187/187 [==============================] - 0s - loss: 1.3684 - acc: 0.3209     \n",
      "Epoch 8/250\n",
      "187/187 [==============================] - 0s - loss: 1.3673 - acc: 0.3209     \n",
      "Epoch 9/250\n",
      "187/187 [==============================] - 0s - loss: 1.3667 - acc: 0.3209     \n",
      "Epoch 10/250\n",
      "187/187 [==============================] - 0s - loss: 1.3666 - acc: 0.3209     \n",
      "Epoch 11/250\n",
      "187/187 [==============================] - 0s - loss: 1.3670 - acc: 0.3209     \n",
      "Epoch 12/250\n",
      "187/187 [==============================] - 0s - loss: 1.3667 - acc: 0.3209     \n",
      "Epoch 13/250\n",
      "187/187 [==============================] - 0s - loss: 1.3669 - acc: 0.3209     \n",
      "Epoch 14/250\n",
      "187/187 [==============================] - 0s - loss: 1.3671 - acc: 0.3209     \n",
      "Epoch 15/250\n",
      "187/187 [==============================] - 0s - loss: 1.3675 - acc: 0.3209     \n",
      "Epoch 16/250\n",
      "187/187 [==============================] - 0s - loss: 1.3673 - acc: 0.3209     \n",
      "Epoch 17/250\n",
      "187/187 [==============================] - 0s - loss: 1.3673 - acc: 0.3209     \n",
      "Epoch 18/250\n",
      "187/187 [==============================] - 0s - loss: 1.3673 - acc: 0.3209     \n",
      "Epoch 19/250\n",
      "187/187 [==============================] - 0s - loss: 1.3671 - acc: 0.3209     \n",
      "Epoch 20/250\n",
      "187/187 [==============================] - 0s - loss: 1.3672 - acc: 0.3209     \n",
      "Epoch 21/250\n",
      "187/187 [==============================] - 0s - loss: 1.3669 - acc: 0.3209     \n",
      "Epoch 22/250\n",
      "187/187 [==============================] - 0s - loss: 1.3669 - acc: 0.3209     \n",
      "Epoch 23/250\n",
      "187/187 [==============================] - 0s - loss: 1.3668 - acc: 0.3209     \n",
      "Epoch 24/250\n",
      "187/187 [==============================] - 0s - loss: 1.3667 - acc: 0.3209     \n",
      "Epoch 25/250\n",
      "187/187 [==============================] - 0s - loss: 1.3667 - acc: 0.3209     \n",
      "Epoch 26/250\n",
      "187/187 [==============================] - 0s - loss: 1.3667 - acc: 0.3209     \n",
      "Epoch 27/250\n",
      "187/187 [==============================] - 0s - loss: 1.3666 - acc: 0.3209     \n",
      "Epoch 28/250\n",
      "187/187 [==============================] - 0s - loss: 1.3666 - acc: 0.3209     \n",
      "Epoch 29/250\n",
      "187/187 [==============================] - 0s - loss: 1.3667 - acc: 0.3209     \n",
      "Epoch 30/250\n",
      "187/187 [==============================] - 0s - loss: 1.3667 - acc: 0.3209     \n",
      "Epoch 31/250\n",
      "187/187 [==============================] - 0s - loss: 1.3667 - acc: 0.3209     \n",
      "Epoch 32/250\n",
      "187/187 [==============================] - 0s - loss: 1.3666 - acc: 0.3209     \n",
      "Epoch 33/250\n",
      "187/187 [==============================] - 0s - loss: 1.3666 - acc: 0.3209     \n",
      "Epoch 34/250\n",
      "187/187 [==============================] - 0s - loss: 1.3666 - acc: 0.3209     \n",
      "Epoch 35/250\n",
      "187/187 [==============================] - 0s - loss: 1.3667 - acc: 0.3209     \n",
      "Epoch 36/250\n",
      "187/187 [==============================] - 0s - loss: 1.3666 - acc: 0.3209     \n",
      "Epoch 37/250\n",
      "187/187 [==============================] - 0s - loss: 1.3666 - acc: 0.3209     \n",
      "Epoch 38/250\n",
      "187/187 [==============================] - 0s - loss: 1.3667 - acc: 0.3209     \n",
      "Epoch 39/250\n",
      "187/187 [==============================] - 0s - loss: 1.3667 - acc: 0.3209     \n",
      "Epoch 40/250\n",
      "187/187 [==============================] - 0s - loss: 1.3666 - acc: 0.3209     \n",
      "Epoch 41/250\n",
      "187/187 [==============================] - 0s - loss: 1.3667 - acc: 0.3209     \n",
      "Epoch 42/250\n",
      "187/187 [==============================] - 0s - loss: 1.3666 - acc: 0.3209     \n",
      "Epoch 43/250\n",
      "187/187 [==============================] - 0s - loss: 1.3666 - acc: 0.3209     \n",
      "Epoch 44/250\n",
      "187/187 [==============================] - 0s - loss: 1.3666 - acc: 0.3209     \n",
      "Epoch 45/250\n",
      "187/187 [==============================] - 0s - loss: 1.3667 - acc: 0.3209     \n",
      "Epoch 46/250\n",
      "187/187 [==============================] - 0s - loss: 1.3667 - acc: 0.3209     \n",
      "Epoch 47/250\n",
      "187/187 [==============================] - 0s - loss: 1.3666 - acc: 0.3209     \n",
      "Epoch 48/250\n",
      "187/187 [==============================] - 0s - loss: 1.3666 - acc: 0.3209     \n",
      "Epoch 49/250\n",
      "187/187 [==============================] - 0s - loss: 1.3666 - acc: 0.3209     \n",
      "Epoch 50/250\n",
      "187/187 [==============================] - 0s - loss: 1.3666 - acc: 0.3209     \n",
      "Epoch 51/250\n",
      "187/187 [==============================] - 0s - loss: 1.3666 - acc: 0.3209     \n",
      "Epoch 52/250\n",
      "187/187 [==============================] - 0s - loss: 1.3666 - acc: 0.3209     \n",
      "Epoch 53/250\n",
      "187/187 [==============================] - 0s - loss: 1.3666 - acc: 0.3209     \n",
      "Epoch 54/250\n",
      "187/187 [==============================] - 0s - loss: 1.3666 - acc: 0.3209     \n",
      "Epoch 55/250\n",
      "187/187 [==============================] - 0s - loss: 1.3667 - acc: 0.3209     \n",
      "Epoch 56/250\n",
      "187/187 [==============================] - 0s - loss: 1.3666 - acc: 0.3209     \n",
      "Epoch 57/250\n",
      "187/187 [==============================] - 0s - loss: 1.3666 - acc: 0.3209     \n",
      "Epoch 58/250\n",
      "187/187 [==============================] - 0s - loss: 1.3666 - acc: 0.3209     \n",
      "Epoch 59/250\n",
      "187/187 [==============================] - 0s - loss: 1.3666 - acc: 0.3209     \n",
      "Epoch 60/250\n",
      "187/187 [==============================] - 0s - loss: 1.3666 - acc: 0.3209     \n",
      "Epoch 61/250\n",
      "187/187 [==============================] - 0s - loss: 1.3666 - acc: 0.3209     \n",
      "Epoch 62/250\n",
      "187/187 [==============================] - 0s - loss: 1.3666 - acc: 0.3209     \n",
      "Epoch 63/250\n",
      "187/187 [==============================] - 0s - loss: 1.3667 - acc: 0.3209     \n",
      "Epoch 64/250\n",
      "187/187 [==============================] - 0s - loss: 1.3666 - acc: 0.3209     \n",
      "Epoch 65/250\n",
      "187/187 [==============================] - 0s - loss: 1.3666 - acc: 0.3209     \n",
      "Epoch 66/250\n",
      "187/187 [==============================] - 0s - loss: 1.3666 - acc: 0.3209     \n",
      "Epoch 67/250\n",
      "187/187 [==============================] - 0s - loss: 1.3666 - acc: 0.3209     \n",
      "Epoch 68/250\n",
      "187/187 [==============================] - 0s - loss: 1.3666 - acc: 0.3209     \n",
      "Epoch 69/250\n",
      "187/187 [==============================] - 0s - loss: 1.3666 - acc: 0.3209     \n",
      "Epoch 70/250\n",
      "187/187 [==============================] - 0s - loss: 1.3667 - acc: 0.3209     \n",
      "Epoch 71/250\n",
      "187/187 [==============================] - 0s - loss: 1.3667 - acc: 0.3209     \n",
      "Epoch 72/250\n",
      "187/187 [==============================] - 0s - loss: 1.3666 - acc: 0.3209     \n",
      "Epoch 73/250\n",
      "187/187 [==============================] - 0s - loss: 1.3666 - acc: 0.3209     \n",
      "Epoch 74/250\n",
      "187/187 [==============================] - 0s - loss: 1.3666 - acc: 0.3209     \n",
      "Epoch 75/250\n",
      "187/187 [==============================] - 0s - loss: 1.3666 - acc: 0.3209     \n",
      "Epoch 76/250\n",
      "187/187 [==============================] - 0s - loss: 1.3667 - acc: 0.3209     \n",
      "Epoch 77/250\n",
      "187/187 [==============================] - 0s - loss: 1.3666 - acc: 0.3209     \n",
      "Epoch 78/250\n",
      "187/187 [==============================] - 0s - loss: 1.3666 - acc: 0.3209     \n",
      "Epoch 79/250\n",
      "187/187 [==============================] - 0s - loss: 1.3666 - acc: 0.3209     \n",
      "Epoch 80/250\n",
      "187/187 [==============================] - 0s - loss: 1.3667 - acc: 0.3209     \n",
      "Epoch 81/250\n",
      "187/187 [==============================] - 0s - loss: 1.3666 - acc: 0.3209     \n",
      "Epoch 82/250\n",
      "187/187 [==============================] - 0s - loss: 1.3666 - acc: 0.3209     \n",
      "Epoch 83/250\n",
      "187/187 [==============================] - 0s - loss: 1.3666 - acc: 0.3209     \n",
      "Epoch 84/250\n",
      "187/187 [==============================] - 0s - loss: 1.3666 - acc: 0.3209     \n",
      "Epoch 85/250\n",
      "187/187 [==============================] - 0s - loss: 1.3666 - acc: 0.3209     \n",
      "Epoch 86/250\n",
      "187/187 [==============================] - 0s - loss: 1.3666 - acc: 0.3209     \n",
      "Epoch 87/250\n",
      "187/187 [==============================] - 0s - loss: 1.3666 - acc: 0.3209     \n",
      "Epoch 88/250\n",
      "187/187 [==============================] - 0s - loss: 1.3666 - acc: 0.3209     \n",
      "Epoch 89/250\n",
      "187/187 [==============================] - 0s - loss: 1.3666 - acc: 0.3209     \n",
      "Epoch 90/250\n",
      "187/187 [==============================] - 0s - loss: 1.3666 - acc: 0.3209     \n",
      "Epoch 91/250\n",
      "187/187 [==============================] - 0s - loss: 1.3666 - acc: 0.3209     \n",
      "Epoch 92/250\n",
      "187/187 [==============================] - 0s - loss: 1.3666 - acc: 0.3209     \n",
      "Epoch 93/250\n",
      "187/187 [==============================] - 0s - loss: 1.3666 - acc: 0.3209     \n",
      "Epoch 94/250\n",
      "187/187 [==============================] - 0s - loss: 1.3666 - acc: 0.3209     \n",
      "Epoch 95/250\n",
      "187/187 [==============================] - 0s - loss: 1.3666 - acc: 0.3209     \n",
      "Epoch 96/250\n",
      "187/187 [==============================] - 0s - loss: 1.3667 - acc: 0.3209     \n",
      "Epoch 97/250\n",
      "187/187 [==============================] - 0s - loss: 1.3666 - acc: 0.3209     \n",
      "Epoch 98/250\n",
      "187/187 [==============================] - 0s - loss: 1.3666 - acc: 0.3209     \n",
      "Epoch 99/250\n",
      "187/187 [==============================] - 0s - loss: 1.3666 - acc: 0.3209     \n",
      "Epoch 100/250\n",
      "187/187 [==============================] - 0s - loss: 1.3666 - acc: 0.3209     "
     ]
    }
   ],
   "source": [
    "train_and_eval(\"simple\")"
   ]
  },
  {
   "cell_type": "code",
   "execution_count": null,
   "metadata": {
    "collapsed": false,
    "scrolled": false
   },
   "outputs": [],
   "source": [
    "train_and_eval(\"LSTM\")"
   ]
  },
  {
   "cell_type": "code",
   "execution_count": null,
   "metadata": {
    "collapsed": true
   },
   "outputs": [],
   "source": []
  },
  {
   "cell_type": "code",
   "execution_count": null,
   "metadata": {
    "collapsed": true
   },
   "outputs": [],
   "source": []
  }
 ],
 "metadata": {
  "kernelspec": {
   "display_name": "Python 3",
   "language": "python",
   "name": "python3"
  },
  "language_info": {
   "codemirror_mode": {
    "name": "ipython",
    "version": 3
   },
   "file_extension": ".py",
   "mimetype": "text/x-python",
   "name": "python",
   "nbconvert_exporter": "python",
   "pygments_lexer": "ipython3",
   "version": "3.5.2"
  }
 },
 "nbformat": 4,
 "nbformat_minor": 1
}

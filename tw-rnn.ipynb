{
 "cells": [
  {
   "cell_type": "markdown",
   "metadata": {},
   "source": [
    "The purpose of this exercise is to demonstrate the use of RNNs using generated data. By generating data ourselves, we have more control over what we train and test the model on.\n"
   ]
  },
  {
   "cell_type": "code",
   "execution_count": null,
   "metadata": {
    "collapsed": false
   },
   "outputs": [],
   "source": [
    "import keras as K\n",
    "import numpy as np\n",
    "import pandas as pd\n",
    "\n",
    "from random import randint, random\n",
    "from sklearn.model_selection import train_test_split\n",
    "from keras.models import Sequential\n",
    "from keras.layers import Dense, Activation\n",
    "from keras.layers.recurrent import LSTM, SimpleRNN\n",
    "from keras import optimizers\n",
    "\n",
    "from sklearn.metrics import confusion_matrix, f1_score\n",
    "import matplotlib.pylab as plt\n"
   ]
  },
  {
   "cell_type": "markdown",
   "metadata": {
    "collapsed": true
   },
   "source": [
    "# Types of Cats"
   ]
  },
  {
   "cell_type": "markdown",
   "metadata": {},
   "source": [
    "Cats are lazy. They do only one thing every hour. There exists several types of cats. \n",
    "\n",
    "Testing that RNN's are capable of performing sequence prediction over different kinds of sequences."
   ]
  },
  {
   "cell_type": "code",
   "execution_count": null,
   "metadata": {
    "collapsed": false
   },
   "outputs": [],
   "source": [
    "# Most cats perform one of four actions\n",
    "EAT = 0\n",
    "NAP = 1\n",
    "SCRATCH = 2 \n",
    "BEAT_UP_STINKY_DOG = 3\n",
    "\n",
    "NUM_POSSIBLE_NORMAL_ACTIONS = 4\n",
    "NUM_POSSIBLE_ACTIONS = 5"
   ]
  },
  {
   "cell_type": "code",
   "execution_count": null,
   "metadata": {
    "collapsed": false
   },
   "outputs": [],
   "source": [
    "def next_action_round_robin(current_action): \n",
    "    return (current_action + 1) % NUM_POSSIBLE_NORMAL_ACTIONS\n",
    "\n",
    "def random_action(): \n",
    "    return randint(0, NUM_POSSIBLE_NORMAL_ACTIONS - 1)"
   ]
  },
  {
   "cell_type": "code",
   "execution_count": null,
   "metadata": {
    "collapsed": true
   },
   "outputs": [],
   "source": [
    "# Predictable Cat behaves in a round robin fashion. Robin... how ironic. \n",
    "def predictable_cat():\n",
    "    action = random_action()\n",
    "    while True: \n",
    "        yield action\n",
    "        action = next_action_round_robin(action)"
   ]
  },
  {
   "cell_type": "code",
   "execution_count": null,
   "metadata": {
    "collapsed": true
   },
   "outputs": [],
   "source": [
    "# OCD Cat does everything in threes, no more, no less...\n",
    "def ocd_cat(): \n",
    "    action = random_action()\n",
    "    while True: \n",
    "        yield action\n",
    "        yield action\n",
    "        yield action\n",
    "        action = next_action_round_robin(action)"
   ]
  },
  {
   "cell_type": "code",
   "execution_count": null,
   "metadata": {
    "collapsed": true
   },
   "outputs": [],
   "source": [
    "# Unpredictable cat performs a random action sometimes, and resumes the sequence from there\n",
    "# This adds some noise to our data, the RNN seems robust to that based on accuracy score. \n",
    "# On hindsight, should have tagged the cats to check which ones get misclassified.\n",
    "def unpredictable_cat():\n",
    "    action = random_action()\n",
    "    while True:\n",
    "        action = next_action_round_robin(action) if random() < 0.5 else random_action()\n",
    "        yield action"
   ]
  },
  {
   "cell_type": "code",
   "execution_count": null,
   "metadata": {
    "collapsed": true
   },
   "outputs": [],
   "source": [
    "# Smelly Cat raids the dumpster every other action\n",
    "RAID_DUMPSTER = 4\n",
    "\n",
    "def smelly_cat():\n",
    "    action = random_action()\n",
    "    while True:\n",
    "        yield action\n",
    "        yield RAID_DUMPSTER\n",
    "        action = next_action_round_robin(action)"
   ]
  },
  {
   "cell_type": "code",
   "execution_count": null,
   "metadata": {
    "collapsed": false
   },
   "outputs": [],
   "source": [
    "# Let's have a look at Smelly Cat's day\n",
    "cat = smelly_cat()\n",
    "smelly_actions = [next(cat) for i in range(0,20)]\n",
    "print(smelly_actions)"
   ]
  },
  {
   "cell_type": "code",
   "execution_count": null,
   "metadata": {
    "collapsed": false
   },
   "outputs": [],
   "source": [
    "def cat_randomizer(with_noise = False):\n",
    "    cat_gens = [predictable_cat, ocd_cat, smelly_cat]\n",
    "    if with_noise:\n",
    "        cat_gens += [unpredictable_cat]\n",
    "\n",
    "    while True:\n",
    "        yield cat_gens[randint(0, len(cat_gens) - 1)]()"
   ]
  },
  {
   "cell_type": "code",
   "execution_count": null,
   "metadata": {
    "collapsed": true
   },
   "outputs": [],
   "source": [
    "def actions_for(cat, num_actions):\n",
    "    return [next(cat) for i in range(0, num_actions)]"
   ]
  },
  {
   "cell_type": "markdown",
   "metadata": {},
   "source": [
    "# Data Preparation"
   ]
  },
  {
   "cell_type": "markdown",
   "metadata": {},
   "source": [
    "We will use one-hot encoding to represent actions."
   ]
  },
  {
   "cell_type": "code",
   "execution_count": null,
   "metadata": {
    "collapsed": true
   },
   "outputs": [],
   "source": [
    "def one_hot(labels, num_classes): \n",
    "    return [[1 if i == label else 0 for i in range(0, num_classes)] for label in labels]"
   ]
  },
  {
   "cell_type": "code",
   "execution_count": null,
   "metadata": {
    "collapsed": false
   },
   "outputs": [],
   "source": [
    "one_hot(smelly_actions, NUM_POSSIBLE_ACTIONS)"
   ]
  },
  {
   "cell_type": "markdown",
   "metadata": {},
   "source": [
    "And now for some kitty action!"
   ]
  },
  {
   "cell_type": "code",
   "execution_count": null,
   "metadata": {
    "collapsed": true
   },
   "outputs": [],
   "source": [
    "def bring_me_some_cats(cat_count):\n",
    "    rand_cat = cat_randomizer(True)\n",
    "    for i in range(0, cat_count):\n",
    "        yield next(rand_cat)"
   ]
  },
  {
   "cell_type": "code",
   "execution_count": null,
   "metadata": {
    "collapsed": false
   },
   "outputs": [],
   "source": [
    "num_actions = 51\n",
    "num_cats = 500\n",
    "kitties_actions = [one_hot(actions_for(cat, num_actions), NUM_POSSIBLE_ACTIONS) for cat in bring_me_some_cats(num_cats)]"
   ]
  },
  {
   "cell_type": "markdown",
   "metadata": {},
   "source": [
    "Splice out the last action, this is the \"label\" that we want to predict."
   ]
  },
  {
   "cell_type": "code",
   "execution_count": null,
   "metadata": {
    "collapsed": true
   },
   "outputs": [],
   "source": [
    "X = kitties_initial_actions = [k[:num_actions - 1] for k in kitties_actions]\n",
    "y = kitties_last_action = [k[-1] for k in kitties_actions]"
   ]
  },
  {
   "cell_type": "code",
   "execution_count": null,
   "metadata": {
    "collapsed": false
   },
   "outputs": [],
   "source": [
    "one_hot(smelly_actions, NUM_POSSIBLE_ACTIONS)"
   ]
  },
  {
   "cell_type": "markdown",
   "metadata": {},
   "source": [
    "And now for some kitty action!"
   ]
  },
  {
   "cell_type": "code",
   "execution_count": null,
   "metadata": {
    "collapsed": false
   },
   "outputs": [],
   "source": [
    "def bring_me_some_cats(cat_count):\n",
    "    rand_cat = cat_randomizer()\n",
    "    for i in range(0, cat_count):\n",
    "        yield next(rand_cat)"
   ]
  },
  {
   "cell_type": "code",
   "execution_count": null,
   "metadata": {
    "collapsed": false
   },
   "outputs": [],
   "source": [
    "num_actions = 51\n",
    "num_cats = 500\n",
    "kitties_actions = [one_hot(actions_for(cat, num_actions), NUM_POSSIBLE_ACTIONS) for cat in bring_me_some_cats(num_cats)]"
   ]
  },
  {
   "cell_type": "code",
   "execution_count": null,
   "metadata": {
    "collapsed": false
   },
   "outputs": [],
   "source": [
    "def plot_kitty_actions(actions): #punintended\n",
    "    actions_decoded = np.argmax(actions, axis=2)\n",
    "    fig = plt.figure()\n",
    "    ax = fig.add_subplot(1,1,1)\n",
    "    plt.imshow(actions_decoded, interpolation='nearest', cmap=plt.cm.magma)\n",
    "    plt.colorbar()\n",
    "    plt.show()"
   ]
  },
  {
   "cell_type": "code",
   "execution_count": null,
   "metadata": {
    "collapsed": false
   },
   "outputs": [],
   "source": [
    "plot_kitty_actions(kitties_actions[:50])"
   ]
  },
  {
   "cell_type": "markdown",
   "metadata": {},
   "source": [
    "Splice out the last action, this is the \"label\" that we want to predict."
   ]
  },
  {
   "cell_type": "code",
   "execution_count": null,
   "metadata": {
    "collapsed": false
   },
   "outputs": [],
   "source": [
    "X = kitties_initial_actions = [k[:num_actions - 1] for k in kitties_actions]\n",
    "y = kitties_last_action = [k[-1] for k in kitties_actions]"
   ]
  },
  {
   "cell_type": "markdown",
   "metadata": {},
   "source": [
    "Split the data set into a training set and test set."
   ]
  },
  {
   "cell_type": "code",
   "execution_count": null,
   "metadata": {
    "collapsed": true,
    "scrolled": true
   },
   "outputs": [],
   "source": [
    "X_train, X_test, y_train, y_test = train_test_split(X, y, test_size = 0.25, random_state=0)"
   ]
  },
  {
   "cell_type": "markdown",
   "metadata": {},
   "source": [
    "# Construct Model"
   ]
  },
  {
   "cell_type": "markdown",
   "metadata": {},
   "source": [
    "## Model Hyperparameters"
   ]
  },
  {
   "cell_type": "code",
   "execution_count": null,
   "metadata": {
    "collapsed": true
   },
   "outputs": [],
   "source": [
    "EPOCHS = 60\n",
    "HIDDEN = 10"
   ]
  },
  {
   "cell_type": "code",
   "execution_count": null,
   "metadata": {
    "collapsed": false
   },
   "outputs": [],
   "source": [
    "model = Sequential()\n",
    "model.add(SimpleRNN(HIDDEN, input_shape=[50, 5]))\n",
    "model.add(Dense(5, activation='softmax'))\n",
    "\n",
    "model.compile(optimizer='adam',\n",
    "              loss='categorical_crossentropy',\n",
    "              metrics=['accuracy'])"
   ]
  },
  {
   "cell_type": "code",
   "execution_count": null,
   "metadata": {
    "collapsed": false
   },
   "outputs": [],
   "source": [
    "model.fit(X_train, y_train, epochs=EPOCHS, batch_size=100)"
   ]
  },
  {
   "cell_type": "markdown",
   "metadata": {},
   "source": [
    "# Model Evaluation"
   ]
  },
  {
   "cell_type": "code",
   "execution_count": null,
   "metadata": {
    "collapsed": true
   },
   "outputs": [],
   "source": [
    "def label_from_vector(v): \n",
    "    return np.argmax(v)"
   ]
  },
  {
   "cell_type": "code",
   "execution_count": null,
   "metadata": {
    "collapsed": false
   },
   "outputs": [],
   "source": [
    "y_predicted = model.predict(X_test)\n",
    "y_predicted[:3]"
   ]
  },
  {
   "cell_type": "code",
   "execution_count": null,
   "metadata": {
    "collapsed": false
   },
   "outputs": [],
   "source": [
    "actual_labels = [label_from_vector(yt) for yt in y_test]\n",
    "predicted_labels = [label_from_vector(yp) for yp in y_predicted]"
   ]
  },
  {
   "cell_type": "code",
   "execution_count": null,
   "metadata": {
    "collapsed": false
   },
   "outputs": [],
   "source": [
    "confusion_matrix(actual_labels, predicted_labels)"
   ]
  },
  {
   "cell_type": "code",
   "execution_count": null,
   "metadata": {
    "collapsed": false
   },
   "outputs": [],
   "source": [
    "f1_score(actual_labels, predicted_labels, average='macro')"
   ]
  },
  {
   "cell_type": "markdown",
   "metadata": {
    "collapsed": true
   },
   "source": [
    "# Sometimes, cats' behaviors depend on the weather"
   ]
  },
  {
   "cell_type": "markdown",
   "metadata": {},
   "source": [
    "The purpose of this section is (still unrealized) two-fold. \n",
    "1) Show the effectiveness on LSTMs on tasks that RNN's cannot handle (long sequences where associations are separated far in time),\n",
    "2) Incorporate an input (weather) at each time step and in combination with past history, make a prediction.\n",
    "\n",
    "Note: I have tried varying the data some ways, but have not yet found a case where LSTMs outperform simple RNN's. "
   ]
  },
  {
   "cell_type": "code",
   "execution_count": null,
   "metadata": {
    "collapsed": true
   },
   "outputs": [],
   "source": [
    "SUNNY = 0\n",
    "RAINY = 1    "
   ]
  },
  {
   "cell_type": "code",
   "execution_count": null,
   "metadata": {
    "collapsed": true
   },
   "outputs": [],
   "source": [
    "def sunny_rainy_sunny(rainy_period_start, rainy_duration):\n",
    "    for i in range(0, rainy_period_start):\n",
    "        yield SUNNY\n",
    "    for i in range(0, rainy_duration):\n",
    "        yield RAINY\n",
    "    while True: \n",
    "        yield SUNNY"
   ]
  },
  {
   "cell_type": "code",
   "execution_count": null,
   "metadata": {
    "collapsed": true
   },
   "outputs": [],
   "source": [
    "def rain_cat(weather):\n",
    "    action = random_action()\n",
    "    while True:\n",
    "        if next(weather) == RAINY: \n",
    "            yield NAP\n",
    "        else:\n",
    "            yield action\n",
    "            action = next_action_round_robin(action)"
   ]
  },
  {
   "cell_type": "code",
   "execution_count": null,
   "metadata": {
    "collapsed": false
   },
   "outputs": [],
   "source": [
    "import functools\n",
    "\n",
    "def random_weather_sequence():\n",
    "    rain_start = randint(30, 40) # grow and shrink the window size and see how the LSTM responds\n",
    "    srs = sunny_rainy_sunny(rain_start, num_actions - rain_start - 1)\n",
    "    return srs\n",
    "\n",
    "rain_cats = [rain_cat(random_weather_sequence()) for i in range(250)]\n",
    "rain_cats_actions = [one_hot(actions_for(cat, num_actions), NUM_POSSIBLE_NORMAL_ACTIONS) for cat in rain_cats]\n"
   ]
  },
  {
   "cell_type": "code",
   "execution_count": null,
   "metadata": {
    "collapsed": false
   },
   "outputs": [],
   "source": [
    "plot_kitty_actions(rain_cats_actions[:50])"
   ]
  },
  {
   "cell_type": "code",
   "execution_count": null,
   "metadata": {
    "collapsed": false
   },
   "outputs": [],
   "source": [
    "X = rain_cats_initial_actions = [k[:num_actions - 1] for k in rain_cats_actions]\n",
    "y = rain_cats_last_action = [k[-1] for k in rain_cats_actions]"
   ]
  },
  {
   "cell_type": "markdown",
   "metadata": {},
   "source": [
    "Split the data set into a training set and test set."
   ]
  },
  {
   "cell_type": "code",
   "execution_count": null,
   "metadata": {
    "collapsed": true,
    "scrolled": true
   },
   "outputs": [],
   "source": [
    "X_train, X_test, y_train, y_test = train_test_split(X, y, test_size = 0.25, random_state=0)"
   ]
  },
  {
   "cell_type": "markdown",
   "metadata": {},
   "source": [
    "# Construct Model"
   ]
  },
  {
   "cell_type": "markdown",
   "metadata": {},
   "source": [
    "## Model Hyperparameters & Construction"
   ]
  },
  {
   "cell_type": "code",
   "execution_count": null,
   "metadata": {
    "collapsed": true
   },
   "outputs": [],
   "source": [
    "EPOCHS = 250\n",
    "NUM_HIDDEN = 20"
   ]
  },
  {
   "cell_type": "code",
   "execution_count": null,
   "metadata": {
    "collapsed": false
   },
   "outputs": [],
   "source": [
    "def build_model(type):\n",
    "    model = Sequential()\n",
    "    input_shape = [num_actions - 1, NUM_POSSIBLE_NORMAL_ACTIONS]\n",
    "    \n",
    "    if type == \"simple\":\n",
    "        model.add(SimpleRNN(NUM_HIDDEN, \n",
    "                            input_shape=input_shape, \n",
    "                            activation=\"relu\", \n",
    "                            recurrent_initializer=\"random_uniform\"))\n",
    "    elif type == \"LSTM\":\n",
    "        model.add(LSTM(NUM_HIDDEN, \n",
    "                       input_shape=input_shape, \n",
    "                       activation=\"relu\", \n",
    "                       recurrent_activation=\"tanh\", \n",
    "                       recurrent_initializer=\"random_uniform\"))\n",
    "    elif type == \"LSTM64\":\n",
    "        model.add(LSTM(64, input_dim=64, input_length=10, return_sequences=True))\n",
    "    else:\n",
    "        raise Error(\"invalid layer type\")\n",
    "        \n",
    "    opt = optimizers.Adam(clipvalue=1.0, lr=0.003, decay=0.02) \n",
    "    model.add(Dense(NUM_POSSIBLE_NORMAL_ACTIONS, activation='softmax'))\n",
    "    model.compile(optimizer=opt,\n",
    "                  loss='categorical_crossentropy',\n",
    "                  metrics=['accuracy'])\n",
    "    return model"
   ]
  },
  {
   "cell_type": "code",
   "execution_count": null,
   "metadata": {
    "collapsed": false
   },
   "outputs": [],
   "source": [
    "def train(model, X_train, y_train):\n",
    "    model.fit(X_train, y_train, epochs=EPOCHS, batch_size=100)"
   ]
  },
  {
   "cell_type": "code",
   "execution_count": null,
   "metadata": {
    "collapsed": true
   },
   "outputs": [],
   "source": [
    "def evaluate(model, X_test, y_test):\n",
    "    y_predicted = model.predict(X_test)\n",
    "    actual_labels = [np.argmax(yt) for yt in y_test]\n",
    "    predicted_labels = [np.argmax(yp) for yp in y_predicted]\n",
    "    conf_matrix = confusion_matrix(actual_labels, predicted_labels)\n",
    "    score = f1_score(actual_labels, predicted_labels, average='macro')\n",
    "    print(conf_matrix)\n",
    "    print(score)"
   ]
  },
  {
   "cell_type": "markdown",
   "metadata": {},
   "source": [
    "# Model Comparison"
   ]
  },
  {
   "cell_type": "code",
   "execution_count": null,
   "metadata": {
    "collapsed": false
   },
   "outputs": [],
   "source": [
    "def train_and_eval(type):\n",
    "    K.backend.clear_session()  # learning rate is practically zero if re-running LSTM without this\n",
    "    print(\"Evaluating {}\".format(type))\n",
    "    model = build_model(type)\n",
    "    train(model, X_train, y_train)\n",
    "    evaluate(model, X_test, y_test)"
   ]
  },
  {
   "cell_type": "code",
   "execution_count": null,
   "metadata": {
    "collapsed": false
   },
   "outputs": [],
   "source": [
    "train_and_eval(\"simple\")"
   ]
  },
  {
   "cell_type": "code",
   "execution_count": null,
   "metadata": {
    "collapsed": false,
    "scrolled": false
   },
   "outputs": [],
   "source": [
    "train_and_eval(\"LSTM\")"
   ]
  },
  {
   "cell_type": "code",
   "execution_count": null,
   "metadata": {
    "collapsed": true
   },
   "outputs": [],
   "source": []
  },
  {
   "cell_type": "code",
   "execution_count": null,
   "metadata": {
    "collapsed": true
   },
   "outputs": [],
   "source": []
  }
 ],
 "metadata": {
  "kernelspec": {
   "display_name": "Python 3",
   "language": "python",
   "name": "python3"
  },
  "language_info": {
   "codemirror_mode": {
    "name": "ipython",
    "version": 3
   },
   "file_extension": ".py",
   "mimetype": "text/x-python",
   "name": "python",
   "nbconvert_exporter": "python",
   "pygments_lexer": "ipython3",
   "version": "3.5.2"
  }
 },
 "nbformat": 4,
 "nbformat_minor": 1
}

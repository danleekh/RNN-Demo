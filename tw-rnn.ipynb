{
 "cells": [
  {
   "cell_type": "markdown",
   "metadata": {},
   "source": [
    "The purpose of this exercise is to demonstrate the use of RNNs using generated data. By generating data ourselves, we have more control over what we train and test the model on.\n"
   ]
  },
  {
   "cell_type": "code",
   "execution_count": 1,
   "metadata": {
    "collapsed": false
   },
   "outputs": [
    {
     "name": "stderr",
     "output_type": "stream",
     "text": [
      "Using TensorFlow backend.\n"
     ]
    }
   ],
   "source": [
    "import keras as K\n",
    "import numpy as np\n",
    "import pandas as pd\n",
    "\n",
    "from random import randint, random\n",
    "from sklearn.model_selection import train_test_split\n",
    "from keras.models import Sequential\n",
    "from keras.layers import Dense, Activation\n",
    "from keras.layers.recurrent import LSTM, SimpleRNN\n",
    "from keras import optimizers\n",
    "\n",
    "from sklearn.metrics import confusion_matrix, f1_score\n",
    "import matplotlib.pylab as plt\n"
   ]
  },
  {
   "cell_type": "markdown",
   "metadata": {
    "collapsed": true
   },
   "source": [
    "# Types of Cats"
   ]
  },
  {
   "cell_type": "markdown",
   "metadata": {},
   "source": [
    "Cats are lazy. They do only one thing every hour. There exists several types of cats. \n",
    "\n",
    "Testing that RNN's are capable of performing sequence prediction over different kinds of sequences."
   ]
  },
  {
   "cell_type": "code",
   "execution_count": 2,
   "metadata": {
    "collapsed": false
   },
   "outputs": [],
   "source": [
    "# Most cats perform one of four actions\n",
    "EAT = 0\n",
    "NAP = 1\n",
    "SCRATCH = 2 \n",
    "BEAT_UP_STINKY_DOG = 3\n",
    "\n",
    "NUM_POSSIBLE_NORMAL_ACTIONS = 4\n",
    "NUM_POSSIBLE_ACTIONS = 5"
   ]
  },
  {
   "cell_type": "code",
   "execution_count": 3,
   "metadata": {
    "collapsed": false
   },
   "outputs": [],
   "source": [
    "def next_action_round_robin(current_action): \n",
    "    return (current_action + 1) % NUM_POSSIBLE_NORMAL_ACTIONS\n",
    "\n",
    "def random_action(): \n",
    "    return randint(0, NUM_POSSIBLE_NORMAL_ACTIONS - 1)"
   ]
  },
  {
   "cell_type": "code",
   "execution_count": 4,
   "metadata": {
    "collapsed": true
   },
   "outputs": [],
   "source": [
    "# Predictable Cat behaves in a round robin fashion. Robin... how ironic. \n",
    "def predictable_cat():\n",
    "    action = random_action()\n",
    "    while True: \n",
    "        yield action\n",
    "        action = next_action_round_robin(action)"
   ]
  },
  {
   "cell_type": "code",
   "execution_count": 5,
   "metadata": {
    "collapsed": true
   },
   "outputs": [],
   "source": [
    "# OCD Cat does everything in threes, no more, no less...\n",
    "def ocd_cat(): \n",
    "    action = random_action()\n",
    "    while True: \n",
    "        yield action\n",
    "        yield action\n",
    "        yield action\n",
    "        action = next_action_round_robin(action)"
   ]
  },
  {
   "cell_type": "code",
   "execution_count": 6,
   "metadata": {
    "collapsed": true
   },
   "outputs": [],
   "source": [
    "# Unpredictable cat performs a random action sometimes, and resumes the sequence from there\n",
    "# This adds some noise to our data, the RNN seems robust to that based on accuracy score. \n",
    "# On hindsight, should have tagged the cats to check which ones get misclassified.\n",
    "def unpredictable_cat():\n",
    "    action = random_action()\n",
    "    while True:\n",
    "        action = next_action_round_robin(action) if random() < 0.5 else random_action()\n",
    "        yield action"
   ]
  },
  {
   "cell_type": "code",
   "execution_count": 7,
   "metadata": {
    "collapsed": true
   },
   "outputs": [],
   "source": [
    "# Smelly Cat raids the dumpster every other action\n",
    "RAID_DUMPSTER = 4\n",
    "\n",
    "def smelly_cat():\n",
    "    action = random_action()\n",
    "    while True:\n",
    "        yield action\n",
    "        yield RAID_DUMPSTER\n",
    "        action = next_action_round_robin(action)"
   ]
  },
  {
   "cell_type": "code",
   "execution_count": 8,
   "metadata": {
    "collapsed": false
   },
   "outputs": [
    {
     "name": "stdout",
     "output_type": "stream",
     "text": [
      "[2, 4, 3, 4, 0, 4, 1, 4, 2, 4, 3, 4, 0, 4, 1, 4, 2, 4, 3, 4]\n"
     ]
    }
   ],
   "source": [
    "# Let's have a look at Smelly Cat's day\n",
    "cat = smelly_cat()\n",
    "smelly_actions = [next(cat) for i in range(0,20)]\n",
    "print(smelly_actions)"
   ]
  },
  {
   "cell_type": "code",
   "execution_count": 9,
   "metadata": {
    "collapsed": false
   },
   "outputs": [],
   "source": [
    "def cat_randomizer(with_noise = False):\n",
    "    cat_gens = [predictable_cat, ocd_cat, smelly_cat]\n",
    "    if with_noise:\n",
    "        cat_gens += [unpredictable_cat]\n",
    "\n",
    "    while True:\n",
    "        yield cat_gens[randint(0, len(cat_gens) - 1)]()"
   ]
  },
  {
   "cell_type": "code",
   "execution_count": 10,
   "metadata": {
    "collapsed": true
   },
   "outputs": [],
   "source": [
    "def actions_for(cat, num_actions):\n",
    "    return [next(cat) for i in range(0, num_actions)]"
   ]
  },
  {
   "cell_type": "markdown",
   "metadata": {},
   "source": [
    "# Data Preparation"
   ]
  },
  {
   "cell_type": "markdown",
   "metadata": {},
   "source": [
    "We will use one-hot encoding to represent actions."
   ]
  },
  {
   "cell_type": "code",
   "execution_count": 11,
   "metadata": {
    "collapsed": true
   },
   "outputs": [],
   "source": [
    "def one_hot(labels, num_classes): \n",
    "    return [[1 if i == label else 0 for i in range(0, num_classes)] for label in labels]"
   ]
  },
  {
   "cell_type": "code",
   "execution_count": 12,
   "metadata": {
    "collapsed": false
   },
   "outputs": [
    {
     "data": {
      "text/plain": [
       "[[0, 0, 1, 0, 0],\n",
       " [0, 0, 0, 0, 1],\n",
       " [0, 0, 0, 1, 0],\n",
       " [0, 0, 0, 0, 1],\n",
       " [1, 0, 0, 0, 0],\n",
       " [0, 0, 0, 0, 1],\n",
       " [0, 1, 0, 0, 0],\n",
       " [0, 0, 0, 0, 1],\n",
       " [0, 0, 1, 0, 0],\n",
       " [0, 0, 0, 0, 1],\n",
       " [0, 0, 0, 1, 0],\n",
       " [0, 0, 0, 0, 1],\n",
       " [1, 0, 0, 0, 0],\n",
       " [0, 0, 0, 0, 1],\n",
       " [0, 1, 0, 0, 0],\n",
       " [0, 0, 0, 0, 1],\n",
       " [0, 0, 1, 0, 0],\n",
       " [0, 0, 0, 0, 1],\n",
       " [0, 0, 0, 1, 0],\n",
       " [0, 0, 0, 0, 1]]"
      ]
     },
     "execution_count": 12,
     "metadata": {},
     "output_type": "execute_result"
    }
   ],
   "source": [
    "one_hot(smelly_actions, NUM_POSSIBLE_ACTIONS)"
   ]
  },
  {
   "cell_type": "markdown",
   "metadata": {},
   "source": [
    "And now for some kitty action!"
   ]
  },
  {
   "cell_type": "code",
   "execution_count": 13,
   "metadata": {
    "collapsed": true
   },
   "outputs": [],
   "source": [
    "def bring_me_some_cats(cat_count):\n",
    "    rand_cat = cat_randomizer(True)\n",
    "    for i in range(0, cat_count):\n",
    "        yield next(rand_cat)"
   ]
  },
  {
   "cell_type": "code",
   "execution_count": 14,
   "metadata": {
    "collapsed": false
   },
   "outputs": [],
   "source": [
    "num_actions = 51\n",
    "num_cats = 500\n",
    "kitties_actions = [one_hot(actions_for(cat, num_actions), NUM_POSSIBLE_ACTIONS) for cat in bring_me_some_cats(num_cats)]"
   ]
  },
  {
   "cell_type": "markdown",
   "metadata": {},
   "source": [
    "Splice out the last action, this is the \"label\" that we want to predict."
   ]
  },
  {
   "cell_type": "code",
   "execution_count": 15,
   "metadata": {
    "collapsed": true
   },
   "outputs": [],
   "source": [
    "X = kitties_initial_actions = [k[:num_actions - 1] for k in kitties_actions]\n",
    "y = kitties_last_action = [k[-1] for k in kitties_actions]"
   ]
  },
  {
   "cell_type": "code",
   "execution_count": 16,
   "metadata": {
    "collapsed": false
   },
   "outputs": [
    {
     "data": {
      "text/plain": [
       "[[0, 0, 1, 0, 0],\n",
       " [0, 0, 0, 0, 1],\n",
       " [0, 0, 0, 1, 0],\n",
       " [0, 0, 0, 0, 1],\n",
       " [1, 0, 0, 0, 0],\n",
       " [0, 0, 0, 0, 1],\n",
       " [0, 1, 0, 0, 0],\n",
       " [0, 0, 0, 0, 1],\n",
       " [0, 0, 1, 0, 0],\n",
       " [0, 0, 0, 0, 1],\n",
       " [0, 0, 0, 1, 0],\n",
       " [0, 0, 0, 0, 1],\n",
       " [1, 0, 0, 0, 0],\n",
       " [0, 0, 0, 0, 1],\n",
       " [0, 1, 0, 0, 0],\n",
       " [0, 0, 0, 0, 1],\n",
       " [0, 0, 1, 0, 0],\n",
       " [0, 0, 0, 0, 1],\n",
       " [0, 0, 0, 1, 0],\n",
       " [0, 0, 0, 0, 1]]"
      ]
     },
     "execution_count": 16,
     "metadata": {},
     "output_type": "execute_result"
    }
   ],
   "source": [
    "one_hot(smelly_actions, NUM_POSSIBLE_ACTIONS)"
   ]
  },
  {
   "cell_type": "markdown",
   "metadata": {},
   "source": [
    "And now for some kitty action!"
   ]
  },
  {
   "cell_type": "code",
   "execution_count": 17,
   "metadata": {
    "collapsed": true
   },
   "outputs": [],
   "source": [
    "def bring_me_some_cats(cat_count):\n",
    "    rand_cat = cat_randomizer()\n",
    "    for i in range(0, cat_count):\n",
    "        yield next(rand_cat)"
   ]
  },
  {
   "cell_type": "code",
   "execution_count": 18,
   "metadata": {
    "collapsed": false
   },
   "outputs": [],
   "source": [
    "num_actions = 51\n",
    "num_cats = 500\n",
    "kitties_actions = [one_hot(actions_for(cat, num_actions), NUM_POSSIBLE_ACTIONS) for cat in bring_me_some_cats(num_cats)]"
   ]
  },
  {
   "cell_type": "code",
   "execution_count": 19,
   "metadata": {
    "collapsed": false
   },
   "outputs": [],
   "source": [
    "def plot_kitty_actions(actions): #punintended\n",
    "    actions_decoded = np.argmax(actions, axis=2)\n",
    "    fig = plt.figure()\n",
    "    ax = fig.add_subplot(1,1,1)\n",
    "    plt.imshow(actions_decoded, interpolation='nearest', cmap=plt.cm.magma)\n",
    "    plt.colorbar()\n",
    "    plt.show()"
   ]
  },
  {
   "cell_type": "code",
   "execution_count": 20,
   "metadata": {
    "collapsed": false
   },
   "outputs": [
    {
     "data": {
      "image/png": "[encoded data removed]",
      "text/plain": [
       "<matplotlib.figure.Figure at 0x116cdf908>"
      ]
     },
     "metadata": {},
     "output_type": "display_data"
    }
   ],
   "source": [
    "plot_kitty_actions(kitties_actions[:50])"
   ]
  },
  {
   "cell_type": "markdown",
   "metadata": {},
   "source": [
    "Splice out the last action, this is the \"label\" that we want to predict."
   ]
  },
  {
   "cell_type": "code",
   "execution_count": 21,
   "metadata": {
    "collapsed": false
   },
   "outputs": [],
   "source": [
    "X = kitties_initial_actions = [k[:num_actions - 1] for k in kitties_actions]\n",
    "y = kitties_last_action = [k[-1] for k in kitties_actions]"
   ]
  },
  {
   "cell_type": "markdown",
   "metadata": {},
   "source": [
    "Split the data set into a training set and test set."
   ]
  },
  {
   "cell_type": "code",
   "execution_count": 22,
   "metadata": {
    "collapsed": true,
    "scrolled": true
   },
   "outputs": [],
   "source": [
    "X_train, X_test, y_train, y_test = train_test_split(X, y, test_size = 0.25, random_state=0)"
   ]
  },
  {
   "cell_type": "markdown",
   "metadata": {},
   "source": [
    "# Construct Model"
   ]
  },
  {
   "cell_type": "markdown",
   "metadata": {},
   "source": [
    "## Model Hyperparameters"
   ]
  },
  {
   "cell_type": "code",
   "execution_count": 23,
   "metadata": {
    "collapsed": true
   },
   "outputs": [],
   "source": [
    "EPOCHS = 120\n",
    "HIDDEN = 10"
   ]
  },
  {
   "cell_type": "code",
   "execution_count": 24,
   "metadata": {
    "collapsed": false
   },
   "outputs": [],
   "source": [
    "model = Sequential()\n",
    "model.add(SimpleRNN(HIDDEN, input_shape=[50, 5]))\n",
    "model.add(Dense(5, activation='softmax'))\n",
    "\n",
    "model.compile(optimizer='adam',\n",
    "              loss='categorical_crossentropy',\n",
    "              metrics=['accuracy'])"
   ]
  },
  {
   "cell_type": "code",
   "execution_count": 25,
   "metadata": {
    "collapsed": false
   },
   "outputs": [
    {
     "name": "stdout",
     "output_type": "stream",
     "text": [
      "Epoch 1/120\n",
      "375/375 [==============================] - 0s - loss: 1.8222 - acc: 0.1840     \n",
      "Epoch 2/120\n",
      "375/375 [==============================] - 0s - loss: 1.7882 - acc: 0.1840     \n",
      "Epoch 3/120\n",
      "375/375 [==============================] - 0s - loss: 1.7564 - acc: 0.1840     \n",
      "Epoch 4/120\n",
      "375/375 [==============================] - 0s - loss: 1.7268 - acc: 0.2453     \n",
      "Epoch 5/120\n",
      "375/375 [==============================] - 0s - loss: 1.6984 - acc: 0.2587     \n",
      "Epoch 6/120\n",
      "375/375 [==============================] - 0s - loss: 1.6721 - acc: 0.2587     \n",
      "Epoch 7/120\n",
      "375/375 [==============================] - 0s - loss: 1.6472 - acc: 0.2587     \n",
      "Epoch 8/120\n",
      "375/375 [==============================] - 0s - loss: 1.6236 - acc: 0.2587     \n",
      "Epoch 9/120\n",
      "375/375 [==============================] - 0s - loss: 1.6013 - acc: 0.2773     \n",
      "Epoch 10/120\n",
      "375/375 [==============================] - 0s - loss: 1.5799 - acc: 0.3387     \n",
      "Epoch 11/120\n",
      "375/375 [==============================] - 0s - loss: 1.5587 - acc: 0.3387     \n",
      "Epoch 12/120\n",
      "375/375 [==============================] - 0s - loss: 1.5382 - acc: 0.3387     \n",
      "Epoch 13/120\n",
      "375/375 [==============================] - 0s - loss: 1.5180 - acc: 0.3387     \n",
      "Epoch 14/120\n",
      "375/375 [==============================] - 0s - loss: 1.4979 - acc: 0.3387     \n",
      "Epoch 15/120\n",
      "375/375 [==============================] - 0s - loss: 1.4784 - acc: 0.3387     \n",
      "Epoch 16/120\n",
      "375/375 [==============================] - 0s - loss: 1.4587 - acc: 0.4320     \n",
      "Epoch 17/120\n",
      "375/375 [==============================] - 0s - loss: 1.4403 - acc: 0.4320     \n",
      "Epoch 18/120\n",
      "375/375 [==============================] - 0s - loss: 1.4207 - acc: 0.4320     \n",
      "Epoch 19/120\n",
      "375/375 [==============================] - 0s - loss: 1.4010 - acc: 0.4320     \n",
      "Epoch 20/120\n",
      "375/375 [==============================] - 0s - loss: 1.3808 - acc: 0.4320     \n",
      "Epoch 21/120\n",
      "375/375 [==============================] - 0s - loss: 1.3607 - acc: 0.4320     \n",
      "Epoch 22/120\n",
      "375/375 [==============================] - 0s - loss: 1.3401 - acc: 0.5227     \n",
      "Epoch 23/120\n",
      "375/375 [==============================] - 0s - loss: 1.3201 - acc: 0.5227     \n",
      "Epoch 24/120\n",
      "375/375 [==============================] - 0s - loss: 1.2978 - acc: 0.5227     \n",
      "Epoch 25/120\n",
      "375/375 [==============================] - 0s - loss: 1.2759 - acc: 0.5227     \n",
      "Epoch 26/120\n",
      "375/375 [==============================] - 0s - loss: 1.2542 - acc: 0.5227     \n",
      "Epoch 27/120\n",
      "375/375 [==============================] - 0s - loss: 1.2317 - acc: 0.5227     \n",
      "Epoch 28/120\n",
      "375/375 [==============================] - 0s - loss: 1.2091 - acc: 0.5227     \n",
      "Epoch 29/120\n",
      "375/375 [==============================] - 0s - loss: 1.1874 - acc: 0.5227     \n",
      "Epoch 30/120\n",
      "375/375 [==============================] - 0s - loss: 1.1644 - acc: 0.5227     \n",
      "Epoch 31/120\n",
      "375/375 [==============================] - 0s - loss: 1.1421 - acc: 0.5227     \n",
      "Epoch 32/120\n",
      "375/375 [==============================] - 0s - loss: 1.1217 - acc: 0.5227     \n",
      "Epoch 33/120\n",
      "375/375 [==============================] - 0s - loss: 1.0988 - acc: 0.5653     \n",
      "Epoch 34/120\n",
      "375/375 [==============================] - 0s - loss: 1.0778 - acc: 0.5920     \n",
      "Epoch 35/120\n",
      "375/375 [==============================] - 0s - loss: 1.0582 - acc: 0.5920     \n",
      "Epoch 36/120\n",
      "375/375 [==============================] - 0s - loss: 1.0394 - acc: 0.5920     \n",
      "Epoch 37/120\n",
      "375/375 [==============================] - 0s - loss: 1.0212 - acc: 0.5920     \n",
      "Epoch 38/120\n",
      "375/375 [==============================] - 0s - loss: 1.0040 - acc: 0.6293     \n",
      "Epoch 39/120\n",
      "375/375 [==============================] - 0s - loss: 0.9869 - acc: 0.6640     \n",
      "Epoch 40/120\n",
      "375/375 [==============================] - 0s - loss: 0.9701 - acc: 0.6640     \n",
      "Epoch 41/120\n",
      "375/375 [==============================] - 0s - loss: 0.9538 - acc: 0.7200     \n",
      "Epoch 42/120\n",
      "375/375 [==============================] - 0s - loss: 0.9382 - acc: 0.8027     \n",
      "Epoch 43/120\n",
      "375/375 [==============================] - 0s - loss: 0.9225 - acc: 0.8320     \n",
      "Epoch 44/120\n",
      "375/375 [==============================] - 0s - loss: 0.9069 - acc: 0.8320     \n",
      "Epoch 45/120\n",
      "375/375 [==============================] - 0s - loss: 0.8922 - acc: 0.8320     \n",
      "Epoch 46/120\n",
      "375/375 [==============================] - 0s - loss: 0.8777 - acc: 0.8320     \n",
      "Epoch 47/120\n",
      "375/375 [==============================] - 0s - loss: 0.8631 - acc: 0.8320     \n",
      "Epoch 48/120\n",
      "375/375 [==============================] - 0s - loss: 0.8487 - acc: 0.8320     \n",
      "Epoch 49/120\n",
      "375/375 [==============================] - 0s - loss: 0.8348 - acc: 0.8320     \n",
      "Epoch 50/120\n",
      "375/375 [==============================] - 0s - loss: 0.8212 - acc: 0.8827     \n",
      "Epoch 51/120\n",
      "375/375 [==============================] - 0s - loss: 0.8083 - acc: 0.9280     \n",
      "Epoch 52/120\n",
      "375/375 [==============================] - 0s - loss: 0.7948 - acc: 0.9280     \n",
      "Epoch 53/120\n",
      "375/375 [==============================] - 0s - loss: 0.7818 - acc: 0.9280     \n",
      "Epoch 54/120\n",
      "375/375 [==============================] - 0s - loss: 0.7683 - acc: 0.9280     \n",
      "Epoch 55/120\n",
      "375/375 [==============================] - 0s - loss: 0.7535 - acc: 0.9280     \n",
      "Epoch 56/120\n",
      "375/375 [==============================] - 0s - loss: 0.7382 - acc: 0.9280     \n",
      "Epoch 57/120\n",
      "375/375 [==============================] - 0s - loss: 0.7188 - acc: 0.9280     \n",
      "Epoch 58/120\n",
      "375/375 [==============================] - 0s - loss: 0.6995 - acc: 0.9280     \n",
      "Epoch 59/120\n",
      "375/375 [==============================] - 0s - loss: 0.6822 - acc: 0.9280     \n",
      "Epoch 60/120\n",
      "375/375 [==============================] - 0s - loss: 0.6676 - acc: 0.9280     \n",
      "Epoch 61/120\n",
      "375/375 [==============================] - 0s - loss: 0.6545 - acc: 0.9280     \n",
      "Epoch 62/120\n",
      "375/375 [==============================] - 0s - loss: 0.6408 - acc: 0.9280     \n",
      "Epoch 63/120\n",
      "375/375 [==============================] - 0s - loss: 0.6283 - acc: 0.9280     \n",
      "Epoch 64/120\n",
      "375/375 [==============================] - 0s - loss: 0.6150 - acc: 0.9280     \n",
      "Epoch 65/120\n",
      "375/375 [==============================] - 0s - loss: 0.6026 - acc: 0.9280     \n",
      "Epoch 66/120\n",
      "375/375 [==============================] - 0s - loss: 0.5905 - acc: 0.9280     \n",
      "Epoch 67/120\n",
      "375/375 [==============================] - 0s - loss: 0.5787 - acc: 0.9280     \n",
      "Epoch 68/120\n",
      "375/375 [==============================] - 0s - loss: 0.5673 - acc: 0.9280     \n",
      "Epoch 69/120\n",
      "375/375 [==============================] - 0s - loss: 0.5564 - acc: 0.9280     \n",
      "Epoch 70/120\n",
      "375/375 [==============================] - 0s - loss: 0.5456 - acc: 0.9280     \n",
      "Epoch 71/120\n",
      "375/375 [==============================] - 0s - loss: 0.5349 - acc: 0.9280     \n",
      "Epoch 72/120\n",
      "375/375 [==============================] - 0s - loss: 0.5247 - acc: 0.9280     \n",
      "Epoch 73/120\n",
      "375/375 [==============================] - 0s - loss: 0.5146 - acc: 1.0000     \n",
      "Epoch 74/120\n",
      "375/375 [==============================] - 0s - loss: 0.5050 - acc: 1.0000     \n",
      "Epoch 75/120\n",
      "375/375 [==============================] - 0s - loss: 0.4953 - acc: 1.0000     \n",
      "Epoch 76/120\n",
      "375/375 [==============================] - 0s - loss: 0.4858 - acc: 1.0000     \n",
      "Epoch 77/120\n",
      "375/375 [==============================] - 0s - loss: 0.4763 - acc: 1.0000     \n",
      "Epoch 78/120\n",
      "375/375 [==============================] - 0s - loss: 0.4670 - acc: 1.0000     \n",
      "Epoch 79/120\n",
      "375/375 [==============================] - 0s - loss: 0.4581 - acc: 1.0000     \n",
      "Epoch 80/120\n",
      "375/375 [==============================] - 0s - loss: 0.4492 - acc: 1.0000     \n",
      "Epoch 81/120\n",
      "375/375 [==============================] - 0s - loss: 0.4405 - acc: 1.0000     \n",
      "Epoch 82/120\n",
      "375/375 [==============================] - 0s - loss: 0.4319 - acc: 1.0000     \n",
      "Epoch 83/120\n",
      "375/375 [==============================] - 0s - loss: 0.4233 - acc: 1.0000     \n",
      "Epoch 84/120\n",
      "375/375 [==============================] - 0s - loss: 0.4150 - acc: 1.0000     \n",
      "Epoch 85/120\n",
      "375/375 [==============================] - 0s - loss: 0.4065 - acc: 1.0000     \n",
      "Epoch 86/120\n",
      "375/375 [==============================] - 0s - loss: 0.3983 - acc: 1.0000     \n",
      "Epoch 87/120\n",
      "375/375 [==============================] - 0s - loss: 0.3901 - acc: 1.0000     \n",
      "Epoch 88/120\n",
      "375/375 [==============================] - 0s - loss: 0.3822 - acc: 1.0000     \n",
      "Epoch 89/120\n",
      "375/375 [==============================] - 0s - loss: 0.3743 - acc: 1.0000     \n",
      "Epoch 90/120\n",
      "375/375 [==============================] - 0s - loss: 0.3667 - acc: 1.0000     \n",
      "Epoch 91/120\n",
      "375/375 [==============================] - 0s - loss: 0.3591 - acc: 1.0000     \n",
      "Epoch 92/120\n",
      "375/375 [==============================] - 0s - loss: 0.3520 - acc: 1.0000     \n",
      "Epoch 93/120\n",
      "375/375 [==============================] - 0s - loss: 0.3448 - acc: 1.0000     \n",
      "Epoch 94/120\n",
      "375/375 [==============================] - 0s - loss: 0.3377 - acc: 1.0000     \n",
      "Epoch 95/120\n",
      "375/375 [==============================] - 0s - loss: 0.3310 - acc: 1.0000     \n",
      "Epoch 96/120\n",
      "375/375 [==============================] - 0s - loss: 0.3243 - acc: 1.0000     \n",
      "Epoch 97/120\n",
      "375/375 [==============================] - 0s - loss: 0.3177 - acc: 1.0000     \n",
      "Epoch 98/120\n",
      "375/375 [==============================] - 0s - loss: 0.3114 - acc: 1.0000     \n",
      "Epoch 99/120\n",
      "375/375 [==============================] - 0s - loss: 0.3051 - acc: 1.0000     \n",
      "Epoch 100/120\n",
      "375/375 [==============================] - 0s - loss: 0.2990 - acc: 1.0000     \n",
      "Epoch 101/120\n",
      "375/375 [==============================] - 0s - loss: 0.2930 - acc: 1.0000     \n",
      "Epoch 102/120\n",
      "375/375 [==============================] - 0s - loss: 0.2871 - acc: 1.0000     \n",
      "Epoch 103/120\n",
      "375/375 [==============================] - 0s - loss: 0.2816 - acc: 1.0000     \n",
      "Epoch 104/120\n",
      "375/375 [==============================] - 0s - loss: 0.2776 - acc: 1.0000     \n",
      "Epoch 105/120\n",
      "375/375 [==============================] - 0s - loss: 0.2742 - acc: 1.0000     \n",
      "Epoch 106/120\n",
      "375/375 [==============================] - 0s - loss: 0.2681 - acc: 1.0000     \n",
      "Epoch 107/120\n",
      "375/375 [==============================] - 0s - loss: 0.2635 - acc: 1.0000     \n",
      "Epoch 108/120\n",
      "375/375 [==============================] - 0s - loss: 0.2590 - acc: 1.0000     \n",
      "Epoch 109/120\n",
      "375/375 [==============================] - 0s - loss: 0.2533 - acc: 1.0000     \n",
      "Epoch 110/120\n",
      "375/375 [==============================] - 0s - loss: 0.2498 - acc: 1.0000     \n",
      "Epoch 111/120\n",
      "375/375 [==============================] - 0s - loss: 0.2444 - acc: 1.0000     \n",
      "Epoch 112/120\n",
      "375/375 [==============================] - 0s - loss: 0.2397 - acc: 1.0000     \n",
      "Epoch 113/120\n",
      "375/375 [==============================] - 0s - loss: 0.2352 - acc: 1.0000     \n",
      "Epoch 114/120\n",
      "375/375 [==============================] - 0s - loss: 0.2308 - acc: 1.0000     \n",
      "Epoch 115/120\n",
      "375/375 [==============================] - 0s - loss: 0.2268 - acc: 1.0000     \n",
      "Epoch 116/120\n",
      "375/375 [==============================] - 0s - loss: 0.2224 - acc: 1.0000     \n",
      "Epoch 117/120\n",
      "375/375 [==============================] - 0s - loss: 0.2187 - acc: 1.0000     \n",
      "Epoch 118/120\n",
      "375/375 [==============================] - 0s - loss: 0.2147 - acc: 1.0000     \n",
      "Epoch 119/120\n",
      "375/375 [==============================] - 0s - loss: 0.2110 - acc: 1.0000     \n",
      "Epoch 120/120\n",
      "375/375 [==============================] - 0s - loss: 0.2071 - acc: 1.0000     \n"
     ]
    },
    {
     "data": {
      "text/plain": [
       "<keras.callbacks.History at 0x116cdf2e8>"
      ]
     },
     "execution_count": 25,
     "metadata": {},
     "output_type": "execute_result"
    }
   ],
   "source": [
    "model.fit(X_train, y_train, epochs=EPOCHS, batch_size=100)"
   ]
  },
  {
   "cell_type": "markdown",
   "metadata": {},
   "source": [
    "# Model Evaluation"
   ]
  },
  {
   "cell_type": "code",
   "execution_count": 26,
   "metadata": {
    "collapsed": true
   },
   "outputs": [],
   "source": [
    "def label_from_vector(v): \n",
    "    return np.argmax(v)"
   ]
  },
  {
   "cell_type": "code",
   "execution_count": 27,
   "metadata": {
    "collapsed": false
   },
   "outputs": [
    {
     "data": {
      "text/plain": [
       "array([[ 0.03579259,  0.85906619,  0.09336755,  0.00305004,  0.00872359],\n",
       "       [ 0.06197611,  0.00387427,  0.0711435 ,  0.82790053,  0.0351056 ],\n",
       "       [ 0.03579259,  0.85906619,  0.09336755,  0.00305004,  0.00872359]], dtype=float32)"
      ]
     },
     "execution_count": 27,
     "metadata": {},
     "output_type": "execute_result"
    }
   ],
   "source": [
    "y_predicted = model.predict(X_test)\n",
    "y_predicted[:3]"
   ]
  },
  {
   "cell_type": "code",
   "execution_count": 28,
   "metadata": {
    "collapsed": false
   },
   "outputs": [],
   "source": [
    "actual_labels = [label_from_vector(yt) for yt in y_test]\n",
    "predicted_labels = [label_from_vector(yp) for yp in y_predicted]"
   ]
  },
  {
   "cell_type": "code",
   "execution_count": 29,
   "metadata": {
    "collapsed": false
   },
   "outputs": [
    {
     "data": {
      "text/plain": [
       "array([[35,  0,  0,  0],\n",
       "       [ 0, 24,  0,  0],\n",
       "       [ 0,  0, 26,  0],\n",
       "       [ 0,  0,  0, 40]])"
      ]
     },
     "execution_count": 29,
     "metadata": {},
     "output_type": "execute_result"
    }
   ],
   "source": [
    "confusion_matrix(actual_labels, predicted_labels)"
   ]
  },
  {
   "cell_type": "code",
   "execution_count": 30,
   "metadata": {
    "collapsed": false
   },
   "outputs": [
    {
     "data": {
      "text/plain": [
       "1.0"
      ]
     },
     "execution_count": 30,
     "metadata": {},
     "output_type": "execute_result"
    }
   ],
   "source": [
    "f1_score(actual_labels, predicted_labels, average='macro')"
   ]
  },
  {
   "cell_type": "markdown",
   "metadata": {
    "collapsed": true
   },
   "source": [
    "# Sometimes, cats' behaviors depend on the weather"
   ]
  },
  {
   "cell_type": "markdown",
   "metadata": {},
   "source": [
    "The purpose of this section is (still unrealized) two-fold. \n",
    "1) Show the effectiveness on LSTMs on tasks that RNN's cannot handle (long sequences where associations are separated far in time),\n",
    "2) Incorporate an input (weather) at each time step and in combination with past history, make a prediction.\n",
    "\n",
    "Note: I have tried varying the data some ways, but have not yet found a case where LSTMs outperform simple RNN's. "
   ]
  },
  {
   "cell_type": "code",
   "execution_count": 31,
   "metadata": {
    "collapsed": true
   },
   "outputs": [],
   "source": [
    "SUNNY = 0\n",
    "RAINY = 1    "
   ]
  },
  {
   "cell_type": "code",
   "execution_count": 32,
   "metadata": {
    "collapsed": true
   },
   "outputs": [],
   "source": [
    "def sunny_rainy_sunny(rainy_period_start, rainy_duration):\n",
    "    for i in range(0, rainy_period_start):\n",
    "        yield SUNNY\n",
    "    for i in range(0, rainy_duration):\n",
    "        yield RAINY\n",
    "    while True: \n",
    "        yield SUNNY"
   ]
  },
  {
   "cell_type": "code",
   "execution_count": 33,
   "metadata": {
    "collapsed": true
   },
   "outputs": [],
   "source": [
    "def rain_cat(weather):\n",
    "    action = random_action()\n",
    "    while True:\n",
    "        if next(weather) == RAINY: \n",
    "            yield NAP\n",
    "        else:\n",
    "            yield action\n",
    "            action = next_action_round_robin(action)"
   ]
  },
  {
   "cell_type": "code",
   "execution_count": 62,
   "metadata": {
    "collapsed": false
   },
   "outputs": [],
   "source": [
    "import functools\n",
    "\n",
    "def random_weather_sequence():\n",
    "    rain_start = randint(40, 45)\n",
    "    srs = sunny_rainy_sunny(rain_start, num_actions - rain_start - 1)\n",
    "    return srs\n",
    "\n",
    "rain_cats = [rain_cat(random_weather_sequence()) for i in range(250)]\n",
    "rain_cats_actions = [one_hot(actions_for(cat, num_actions), NUM_POSSIBLE_NORMAL_ACTIONS) for cat in rain_cats]\n"
   ]
  },
  {
   "cell_type": "code",
   "execution_count": 63,
   "metadata": {
    "collapsed": false
   },
   "outputs": [
    {
     "data": {
      "image/png": "[encoded data removed]",
      "text/plain": [
       "<matplotlib.figure.Figure at 0x119d3be80>"
      ]
     },
     "metadata": {},
     "output_type": "display_data"
    }
   ],
   "source": [
    "plot_kitty_actions(rain_cats_actions[:50])"
   ]
  },
  {
   "cell_type": "code",
   "execution_count": 64,
   "metadata": {
    "collapsed": false
   },
   "outputs": [],
   "source": [
    "X = rain_cats_initial_actions = [k[:num_actions - 1] for k in rain_cats_actions]\n",
    "y = rain_cats_last_action = [k[-1] for k in rain_cats_actions]"
   ]
  },
  {
   "cell_type": "markdown",
   "metadata": {},
   "source": [
    "Split the data set into a training set and test set."
   ]
  },
  {
   "cell_type": "code",
   "execution_count": 65,
   "metadata": {
    "collapsed": true,
    "scrolled": true
   },
   "outputs": [],
   "source": [
    "X_train, X_test, y_train, y_test = train_test_split(X, y, test_size = 0.25, random_state=0)"
   ]
  },
  {
   "cell_type": "markdown",
   "metadata": {},
   "source": [
    "# Construct Model"
   ]
  },
  {
   "cell_type": "markdown",
   "metadata": {},
   "source": [
    "## Model Hyperparameters & Construction"
   ]
  },
  {
   "cell_type": "code",
   "execution_count": 66,
   "metadata": {
    "collapsed": true
   },
   "outputs": [],
   "source": [
    "EPOCHS = 250\n",
    "HIDDEN = 20"
   ]
  },
  {
   "cell_type": "code",
   "execution_count": 67,
   "metadata": {
    "collapsed": false
   },
   "outputs": [],
   "source": [
    "def build_model(type):\n",
    "    model = Sequential()\n",
    "    input_shape = [num_actions - 1, NUM_POSSIBLE_NORMAL_ACTIONS]\n",
    "    \n",
    "    if type == \"simple\":\n",
    "        model.add(SimpleRNN(HIDDEN, input_shape=input_shape, activation=\"relu\", recurrent_initializer=\"random_uniform\"))\n",
    "    elif type == \"LSTM\":\n",
    "        model.add(LSTM(HIDDEN, input_shape=input_shape, activation=\"relu\", recurrent_activation=\"sigmoid\", recurrent_initializer=\"random_uniform\"))\n",
    "    elif type == \"LSTM64\":\n",
    "        model.add(LSTM(64, input_dim=64, input_length=10, return_sequences=True))\n",
    "    else:\n",
    "        raise Error(\"invalid layer type\")\n",
    "        \n",
    "    opt = optimizers.Adam(clipvalue=1.0, lr=0.001, decay=0.02) \n",
    "    model.add(Dense(NUM_POSSIBLE_NORMAL_ACTIONS, activation='softmax'))\n",
    "    model.compile(optimizer=opt,\n",
    "                  loss='categorical_crossentropy',\n",
    "                  metrics=['accuracy'])\n",
    "    return model"
   ]
  },
  {
   "cell_type": "code",
   "execution_count": 68,
   "metadata": {
    "collapsed": false
   },
   "outputs": [],
   "source": [
    "def train(model, X_train, y_train):\n",
    "    model.fit(X_train, y_train, epochs=EPOCHS, batch_size=100)"
   ]
  },
  {
   "cell_type": "code",
   "execution_count": 69,
   "metadata": {
    "collapsed": true
   },
   "outputs": [],
   "source": [
    "def evaluate(model, X_test, y_test):\n",
    "    y_predicted = model.predict(X_test)\n",
    "    actual_labels = [np.argmax(yt) for yt in y_test]\n",
    "    predicted_labels = [np.argmax(yp) for yp in y_predicted]\n",
    "    conf_matrix = confusion_matrix(actual_labels, predicted_labels)\n",
    "    score = f1_score(actual_labels, predicted_labels, average='macro')\n",
    "    print(conf_matrix)\n",
    "    print(score)"
   ]
  },
  {
   "cell_type": "markdown",
   "metadata": {},
   "source": [
    "# Model Comparison"
   ]
  },
  {
   "cell_type": "code",
   "execution_count": 70,
   "metadata": {
    "collapsed": false
   },
   "outputs": [],
   "source": [
    "def train_and_eval(type):\n",
    "    K.backend.clear_session()  # learning rate is practically zero if re-running LSTM without this\n",
    "    print(\"Evaluating {}\".format(type))\n",
    "    model = build_model(type)\n",
    "    train(model, X_train, y_train)\n",
    "    evaluate(model, X_test, y_test)"
   ]
  },
  {
   "cell_type": "code",
   "execution_count": null,
   "metadata": {
    "collapsed": false
   },
   "outputs": [
    {
     "name": "stdout",
     "output_type": "stream",
     "text": [
      "Evaluating simple\n",
      "Epoch 1/250\n",
      "187/187 [==============================] - 0s - loss: 1.4054 - acc: 0.2727     \n",
      "Epoch 2/250\n",
      "187/187 [==============================] - 0s - loss: 1.4010 - acc: 0.2727     \n",
      "Epoch 3/250\n",
      "187/187 [==============================] - 0s - loss: 1.3968 - acc: 0.2727     \n",
      "Epoch 4/250\n",
      "187/187 [==============================] - 0s - loss: 1.3940 - acc: 0.2727     \n",
      "Epoch 5/250\n",
      "187/187 [==============================] - 0s - loss: 1.3903 - acc: 0.2727     \n",
      "Epoch 6/250\n",
      "187/187 [==============================] - 0s - loss: 1.3883 - acc: 0.2727     \n",
      "Epoch 7/250\n",
      "187/187 [==============================] - 0s - loss: 1.3864 - acc: 0.2727     \n",
      "Epoch 8/250\n",
      "187/187 [==============================] - 0s - loss: 1.3841 - acc: 0.2727     \n",
      "Epoch 9/250\n",
      "187/187 [==============================] - 0s - loss: 1.3825 - acc: 0.2727     \n",
      "Epoch 10/250\n",
      "187/187 [==============================] - 0s - loss: 1.3811 - acc: 0.2727     \n",
      "Epoch 11/250\n",
      "187/187 [==============================] - 0s - loss: 1.3797 - acc: 0.2727     \n",
      "Epoch 12/250\n",
      "187/187 [==============================] - 0s - loss: 1.3787 - acc: 0.2727     \n",
      "Epoch 13/250\n",
      "187/187 [==============================] - 0s - loss: 1.3776 - acc: 0.2727     \n",
      "Epoch 14/250\n",
      "187/187 [==============================] - 0s - loss: 1.3767 - acc: 0.2727     \n",
      "Epoch 15/250\n",
      "187/187 [==============================] - 0s - loss: 1.3759 - acc: 0.2727     \n",
      "Epoch 16/250\n",
      "187/187 [==============================] - 0s - loss: 1.3755 - acc: 0.2727     \n",
      "Epoch 17/250\n",
      "187/187 [==============================] - 0s - loss: 1.3749 - acc: 0.2727     \n",
      "Epoch 18/250\n",
      "187/187 [==============================] - 0s - loss: 1.3742 - acc: 0.2727     \n",
      "Epoch 19/250\n",
      "187/187 [==============================] - 0s - loss: 1.3740 - acc: 0.2727     \n",
      "Epoch 20/250\n",
      "187/187 [==============================] - 0s - loss: 1.3734 - acc: 0.2727     \n",
      "Epoch 21/250\n",
      "187/187 [==============================] - 0s - loss: 1.3732 - acc: 0.2727     \n",
      "Epoch 22/250\n",
      "187/187 [==============================] - 0s - loss: 1.3729 - acc: 0.2727     \n",
      "Epoch 23/250\n",
      "187/187 [==============================] - 0s - loss: 1.3727 - acc: 0.2727     \n",
      "Epoch 24/250\n",
      "187/187 [==============================] - 0s - loss: 1.3724 - acc: 0.2727     \n",
      "Epoch 25/250\n",
      "187/187 [==============================] - 0s - loss: 1.3722 - acc: 0.2727     \n",
      "Epoch 26/250\n",
      "187/187 [==============================] - 0s - loss: 1.3721 - acc: 0.2727     \n",
      "Epoch 27/250\n",
      "187/187 [==============================] - 0s - loss: 1.3719 - acc: 0.2727     \n",
      "Epoch 28/250\n",
      "187/187 [==============================] - 0s - loss: 1.3717 - acc: 0.2727     \n",
      "Epoch 29/250\n",
      "187/187 [==============================] - 0s - loss: 1.3717 - acc: 0.2727     \n",
      "Epoch 30/250\n",
      "187/187 [==============================] - 0s - loss: 1.3715 - acc: 0.2727     \n",
      "Epoch 31/250\n",
      "187/187 [==============================] - 0s - loss: 1.3715 - acc: 0.2727     \n",
      "Epoch 32/250\n",
      "187/187 [==============================] - 0s - loss: 1.3714 - acc: 0.2727     \n",
      "Epoch 33/250\n",
      "187/187 [==============================] - 0s - loss: 1.3713 - acc: 0.2727     \n",
      "Epoch 34/250\n",
      "187/187 [==============================] - 0s - loss: 1.3712 - acc: 0.2727     \n",
      "Epoch 35/250\n",
      "187/187 [==============================] - 0s - loss: 1.3712 - acc: 0.2727     \n",
      "Epoch 36/250\n",
      "187/187 [==============================] - 0s - loss: 1.3712 - acc: 0.2727     \n",
      "Epoch 37/250\n",
      "187/187 [==============================] - 0s - loss: 1.3712 - acc: 0.2727     \n",
      "Epoch 38/250\n",
      "187/187 [==============================] - 0s - loss: 1.3710 - acc: 0.2727     \n",
      "Epoch 39/250\n",
      "187/187 [==============================] - 0s - loss: 1.3710 - acc: 0.2620     \n",
      "Epoch 40/250\n",
      "187/187 [==============================] - 0s - loss: 1.3710 - acc: 0.2781     \n",
      "Epoch 41/250\n",
      "187/187 [==============================] - 0s - loss: 1.3710 - acc: 0.2781     \n",
      "Epoch 42/250\n",
      "187/187 [==============================] - 0s - loss: 1.3710 - acc: 0.2781     \n",
      "Epoch 43/250\n",
      "187/187 [==============================] - 0s - loss: 1.3709 - acc: 0.2781     \n",
      "Epoch 44/250\n",
      "187/187 [==============================] - 0s - loss: 1.3709 - acc: 0.2781     \n",
      "Epoch 45/250\n",
      "187/187 [==============================] - 0s - loss: 1.3709 - acc: 0.2781     \n",
      "Epoch 46/250\n",
      "187/187 [==============================] - 0s - loss: 1.3708 - acc: 0.2781     \n",
      "Epoch 47/250\n",
      "187/187 [==============================] - 0s - loss: 1.3709 - acc: 0.2781     \n",
      "Epoch 48/250\n",
      "187/187 [==============================] - 0s - loss: 1.3708 - acc: 0.2781     \n",
      "Epoch 49/250\n",
      "187/187 [==============================] - 0s - loss: 1.3708 - acc: 0.2781     \n",
      "Epoch 50/250\n",
      "187/187 [==============================] - 0s - loss: 1.3708 - acc: 0.2781     \n",
      "Epoch 51/250\n",
      "187/187 [==============================] - 0s - loss: 1.3708 - acc: 0.2781     \n",
      "Epoch 52/250\n",
      "187/187 [==============================] - 0s - loss: 1.3708 - acc: 0.2781     \n",
      "Epoch 53/250\n",
      "187/187 [==============================] - 0s - loss: 1.3708 - acc: 0.2781     \n",
      "Epoch 54/250\n",
      "187/187 [==============================] - 0s - loss: 1.3708 - acc: 0.2781     \n",
      "Epoch 55/250\n",
      "187/187 [==============================] - 0s - loss: 1.3708 - acc: 0.2781     \n",
      "Epoch 56/250\n",
      "187/187 [==============================] - 0s - loss: 1.3708 - acc: 0.2781     \n",
      "Epoch 57/250\n",
      "187/187 [==============================] - 0s - loss: 1.3709 - acc: 0.2781     \n",
      "Epoch 58/250\n",
      "187/187 [==============================] - 0s - loss: 1.3707 - acc: 0.2781     \n",
      "Epoch 59/250\n",
      "187/187 [==============================] - 0s - loss: 1.3708 - acc: 0.2781     \n",
      "Epoch 60/250\n",
      "187/187 [==============================] - 0s - loss: 1.3707 - acc: 0.2781     \n",
      "Epoch 61/250\n",
      "187/187 [==============================] - 0s - loss: 1.3708 - acc: 0.2781     \n",
      "Epoch 62/250\n",
      "187/187 [==============================] - 0s - loss: 1.3707 - acc: 0.2781     \n",
      "Epoch 63/250\n",
      "187/187 [==============================] - 0s - loss: 1.3708 - acc: 0.2781     \n",
      "Epoch 64/250\n",
      "187/187 [==============================] - 0s - loss: 1.3707 - acc: 0.2781     \n",
      "Epoch 65/250\n",
      "187/187 [==============================] - 0s - loss: 1.3707 - acc: 0.2781     \n",
      "Epoch 66/250\n",
      "187/187 [==============================] - 0s - loss: 1.3707 - acc: 0.2781     \n",
      "Epoch 67/250\n",
      "187/187 [==============================] - 0s - loss: 1.3707 - acc: 0.2781     \n",
      "Epoch 68/250\n",
      "187/187 [==============================] - 0s - loss: 1.3708 - acc: 0.2781     \n",
      "Epoch 69/250\n",
      "187/187 [==============================] - 0s - loss: 1.3707 - acc: 0.2781     \n",
      "Epoch 70/250\n",
      "187/187 [==============================] - 0s - loss: 1.3707 - acc: 0.2781     \n",
      "Epoch 71/250\n",
      "187/187 [==============================] - 0s - loss: 1.3707 - acc: 0.2781     \n",
      "Epoch 72/250\n",
      "187/187 [==============================] - 0s - loss: 1.3708 - acc: 0.2781     \n",
      "Epoch 73/250\n",
      "187/187 [==============================] - 0s - loss: 1.3707 - acc: 0.2781     \n",
      "Epoch 74/250\n",
      "187/187 [==============================] - 0s - loss: 1.3707 - acc: 0.2781     \n",
      "Epoch 75/250\n",
      "187/187 [==============================] - 0s - loss: 1.3707 - acc: 0.2781     \n",
      "Epoch 76/250\n",
      "187/187 [==============================] - 0s - loss: 1.3707 - acc: 0.2781     \n",
      "Epoch 77/250\n",
      "187/187 [==============================] - 0s - loss: 1.3707 - acc: 0.2781     \n",
      "Epoch 78/250\n",
      "187/187 [==============================] - 0s - loss: 1.3707 - acc: 0.2781     \n",
      "Epoch 79/250\n",
      "187/187 [==============================] - 0s - loss: 1.3707 - acc: 0.2781     \n",
      "Epoch 80/250\n",
      "187/187 [==============================] - 0s - loss: 1.3707 - acc: 0.2781     \n",
      "Epoch 81/250\n",
      "187/187 [==============================] - 0s - loss: 1.3707 - acc: 0.2781     \n",
      "Epoch 82/250\n",
      "187/187 [==============================] - 0s - loss: 1.3707 - acc: 0.2781     \n",
      "Epoch 83/250\n",
      "187/187 [==============================] - 0s - loss: 1.3707 - acc: 0.2781     \n",
      "Epoch 84/250\n",
      "187/187 [==============================] - 0s - loss: 1.3707 - acc: 0.2781     \n",
      "Epoch 85/250\n",
      "187/187 [==============================] - 0s - loss: 1.3707 - acc: 0.2781     \n",
      "Epoch 86/250\n",
      "187/187 [==============================] - 0s - loss: 1.3707 - acc: 0.2781     \n",
      "Epoch 87/250\n",
      "187/187 [==============================] - 0s - loss: 1.3707 - acc: 0.2781     \n",
      "Epoch 88/250\n",
      "187/187 [==============================] - 0s - loss: 1.3707 - acc: 0.2781     \n",
      "Epoch 89/250\n",
      "187/187 [==============================] - 0s - loss: 1.3707 - acc: 0.2781     \n",
      "Epoch 90/250\n",
      "187/187 [==============================] - 0s - loss: 1.3707 - acc: 0.2781     \n",
      "Epoch 91/250\n",
      "187/187 [==============================] - 0s - loss: 1.3707 - acc: 0.2781     \n",
      "Epoch 92/250\n",
      "187/187 [==============================] - 0s - loss: 1.3707 - acc: 0.2781     \n",
      "Epoch 93/250\n",
      "187/187 [==============================] - 0s - loss: 1.3707 - acc: 0.2781     \n",
      "Epoch 94/250\n",
      "187/187 [==============================] - 0s - loss: 1.3707 - acc: 0.2781     \n",
      "Epoch 95/250\n",
      "187/187 [==============================] - 0s - loss: 1.3707 - acc: 0.2781     \n",
      "Epoch 96/250\n",
      "187/187 [==============================] - 0s - loss: 1.3708 - acc: 0.2781     \n",
      "Epoch 97/250\n",
      "187/187 [==============================] - 0s - loss: 1.3708 - acc: 0.2781     \n",
      "Epoch 98/250\n",
      "187/187 [==============================] - 0s - loss: 1.3707 - acc: 0.2781     \n",
      "Epoch 99/250\n",
      "187/187 [==============================] - 0s - loss: 1.3707 - acc: 0.2781     \n",
      "Epoch 100/250\n",
      "187/187 [==============================] - 0s - loss: 1.3707 - acc: 0.2781     \n",
      "Epoch 101/250\n",
      "187/187 [==============================] - 0s - loss: 1.3707 - acc: 0.2781     \n",
      "Epoch 102/250\n",
      "187/187 [==============================] - 0s - loss: 1.3707 - acc: 0.2781     \n",
      "Epoch 103/250\n",
      "187/187 [==============================] - 0s - loss: 1.3707 - acc: 0.2781     \n",
      "Epoch 104/250\n",
      "187/187 [==============================] - 0s - loss: 1.3707 - acc: 0.2781     \n",
      "Epoch 105/250\n",
      "187/187 [==============================] - 0s - loss: 1.3707 - acc: 0.2781     \n",
      "Epoch 106/250\n",
      "187/187 [==============================] - 0s - loss: 1.3707 - acc: 0.2781     \n",
      "Epoch 107/250\n",
      "187/187 [==============================] - 0s - loss: 1.3707 - acc: 0.2781     \n",
      "Epoch 108/250\n",
      "187/187 [==============================] - 0s - loss: 1.3707 - acc: 0.2781     \n",
      "Epoch 109/250\n",
      "187/187 [==============================] - 0s - loss: 1.3707 - acc: 0.2781     \n",
      "Epoch 110/250\n",
      "187/187 [==============================] - 0s - loss: 1.3707 - acc: 0.2781     \n",
      "Epoch 111/250\n",
      "187/187 [==============================] - 0s - loss: 1.3707 - acc: 0.2781     \n",
      "Epoch 112/250\n",
      "187/187 [==============================] - 0s - loss: 1.3707 - acc: 0.2781     \n",
      "Epoch 113/250\n",
      "187/187 [==============================] - 0s - loss: 1.3707 - acc: 0.2781     \n",
      "Epoch 114/250\n",
      "187/187 [==============================] - 0s - loss: 1.3707 - acc: 0.2781     \n",
      "Epoch 115/250\n",
      "187/187 [==============================] - 0s - loss: 1.3707 - acc: 0.2781     \n",
      "Epoch 116/250\n",
      "187/187 [==============================] - 0s - loss: 1.3707 - acc: 0.2781     \n",
      "Epoch 117/250\n",
      "187/187 [==============================] - 0s - loss: 1.3707 - acc: 0.2781     \n",
      "Epoch 118/250\n",
      "187/187 [==============================] - 0s - loss: 1.3707 - acc: 0.2781     \n",
      "Epoch 119/250\n",
      "187/187 [==============================] - 0s - loss: 1.3707 - acc: 0.2781     \n",
      "Epoch 120/250\n",
      "187/187 [==============================] - 0s - loss: 1.3707 - acc: 0.2781     \n",
      "Epoch 121/250\n",
      "187/187 [==============================] - 0s - loss: 1.3707 - acc: 0.2781     \n",
      "Epoch 122/250\n",
      "187/187 [==============================] - 0s - loss: 1.3707 - acc: 0.2781     \n",
      "Epoch 123/250\n",
      "187/187 [==============================] - 0s - loss: 1.3707 - acc: 0.2781     \n",
      "Epoch 124/250\n",
      "187/187 [==============================] - 0s - loss: 1.3707 - acc: 0.2781     \n",
      "Epoch 125/250\n",
      "187/187 [==============================] - 0s - loss: 1.3707 - acc: 0.2781     \n",
      "Epoch 126/250\n",
      "187/187 [==============================] - 0s - loss: 1.3707 - acc: 0.2781     \n",
      "Epoch 127/250\n",
      "187/187 [==============================] - 0s - loss: 1.3707 - acc: 0.2781     \n",
      "Epoch 128/250\n",
      "187/187 [==============================] - 0s - loss: 1.3707 - acc: 0.2781     \n",
      "Epoch 129/250\n",
      "187/187 [==============================] - 0s - loss: 1.3707 - acc: 0.2781     \n",
      "Epoch 130/250\n",
      "187/187 [==============================] - 0s - loss: 1.3707 - acc: 0.2781     \n",
      "Epoch 131/250\n",
      "187/187 [==============================] - 0s - loss: 1.3707 - acc: 0.2781     \n",
      "Epoch 132/250\n",
      "187/187 [==============================] - 0s - loss: 1.3707 - acc: 0.2781     \n",
      "Epoch 133/250\n",
      "187/187 [==============================] - 0s - loss: 1.3707 - acc: 0.2781     \n",
      "Epoch 134/250\n",
      "187/187 [==============================] - 0s - loss: 1.3707 - acc: 0.2781     \n",
      "Epoch 135/250\n",
      "187/187 [==============================] - 0s - loss: 1.3707 - acc: 0.2781     \n",
      "Epoch 136/250\n",
      "187/187 [==============================] - 0s - loss: 1.3707 - acc: 0.2781     \n",
      "Epoch 137/250\n",
      "187/187 [==============================] - 0s - loss: 1.3707 - acc: 0.2781     \n",
      "Epoch 138/250\n",
      "187/187 [==============================] - 0s - loss: 1.3707 - acc: 0.2781     \n",
      "Epoch 139/250\n",
      "187/187 [==============================] - 0s - loss: 1.3707 - acc: 0.2781     \n",
      "Epoch 140/250\n",
      "187/187 [==============================] - 0s - loss: 1.3707 - acc: 0.2781     \n",
      "Epoch 141/250\n",
      "187/187 [==============================] - 0s - loss: 1.3707 - acc: 0.2781     \n",
      "Epoch 142/250\n",
      "187/187 [==============================] - 0s - loss: 1.3707 - acc: 0.2781     \n",
      "Epoch 143/250\n",
      "187/187 [==============================] - 0s - loss: 1.3707 - acc: 0.2781     \n",
      "Epoch 144/250\n",
      "187/187 [==============================] - 0s - loss: 1.3707 - acc: 0.2781     \n",
      "Epoch 145/250\n",
      "187/187 [==============================] - 0s - loss: 1.3707 - acc: 0.2781     \n",
      "Epoch 146/250\n",
      "187/187 [==============================] - 0s - loss: 1.3707 - acc: 0.2781     \n",
      "Epoch 147/250\n",
      "187/187 [==============================] - 0s - loss: 1.3707 - acc: 0.2781     \n",
      "Epoch 148/250\n",
      "187/187 [==============================] - 0s - loss: 1.3707 - acc: 0.2781     \n",
      "Epoch 149/250\n",
      "187/187 [==============================] - 0s - loss: 1.3707 - acc: 0.2781     \n",
      "Epoch 150/250\n",
      "187/187 [==============================] - 0s - loss: 1.3707 - acc: 0.2781     \n",
      "Epoch 151/250\n",
      "187/187 [==============================] - 0s - loss: 1.3707 - acc: 0.2781     \n",
      "Epoch 152/250\n",
      "187/187 [==============================] - 0s - loss: 1.3707 - acc: 0.2781     \n",
      "Epoch 153/250\n",
      "187/187 [==============================] - 0s - loss: 1.3707 - acc: 0.2781     \n",
      "Epoch 154/250\n",
      "187/187 [==============================] - 0s - loss: 1.3707 - acc: 0.2781     \n",
      "Epoch 155/250\n",
      "187/187 [==============================] - 0s - loss: 1.3707 - acc: 0.2781     \n",
      "Epoch 156/250\n",
      "187/187 [==============================] - 0s - loss: 1.3707 - acc: 0.2781     \n",
      "Epoch 157/250\n",
      "187/187 [==============================] - 0s - loss: 1.3707 - acc: 0.2781     \n",
      "Epoch 158/250\n",
      "187/187 [==============================] - 0s - loss: 1.3707 - acc: 0.2781     \n",
      "Epoch 159/250\n",
      "187/187 [==============================] - 0s - loss: 1.3707 - acc: 0.2781     \n",
      "Epoch 160/250\n",
      "187/187 [==============================] - 0s - loss: 1.3707 - acc: 0.2781     \n",
      "Epoch 161/250\n",
      "187/187 [==============================] - 0s - loss: 1.3707 - acc: 0.2781     \n",
      "Epoch 162/250\n",
      "187/187 [==============================] - 0s - loss: 1.3707 - acc: 0.2781     \n",
      "Epoch 163/250\n",
      "187/187 [==============================] - 0s - loss: 1.3707 - acc: 0.2781     \n",
      "Epoch 164/250\n",
      "187/187 [==============================] - 0s - loss: 1.3707 - acc: 0.2781     \n",
      "Epoch 165/250\n",
      "187/187 [==============================] - 0s - loss: 1.3707 - acc: 0.2781     \n",
      "Epoch 166/250\n",
      "187/187 [==============================] - 0s - loss: 1.3707 - acc: 0.2781     \n",
      "Epoch 167/250\n",
      "187/187 [==============================] - 0s - loss: 1.3707 - acc: 0.2781     \n",
      "Epoch 168/250\n",
      "187/187 [==============================] - 0s - loss: 1.3707 - acc: 0.2781     \n",
      "Epoch 169/250\n",
      "187/187 [==============================] - 0s - loss: 1.3707 - acc: 0.2781     \n",
      "Epoch 170/250\n",
      "187/187 [==============================] - 0s - loss: 1.3707 - acc: 0.2781     \n",
      "Epoch 171/250\n",
      "187/187 [==============================] - 0s - loss: 1.3707 - acc: 0.2781     \n",
      "Epoch 172/250\n",
      "187/187 [==============================] - 0s - loss: 1.3707 - acc: 0.2781     \n",
      "Epoch 173/250\n",
      "187/187 [==============================] - 0s - loss: 1.3707 - acc: 0.2781     \n",
      "Epoch 174/250\n",
      "187/187 [==============================] - 0s - loss: 1.3707 - acc: 0.2781     \n",
      "Epoch 175/250\n",
      "187/187 [==============================] - 0s - loss: 1.3707 - acc: 0.2781     \n",
      "Epoch 176/250\n",
      "187/187 [==============================] - 0s - loss: 1.3707 - acc: 0.2781     \n",
      "Epoch 177/250\n",
      "187/187 [==============================] - 0s - loss: 1.3707 - acc: 0.2781     \n",
      "Epoch 178/250\n",
      "187/187 [==============================] - 0s - loss: 1.3707 - acc: 0.2781     \n",
      "Epoch 179/250\n",
      "187/187 [==============================] - 0s - loss: 1.3707 - acc: 0.2781     \n",
      "Epoch 180/250\n",
      "187/187 [==============================] - 0s - loss: 1.3707 - acc: 0.2781     \n",
      "Epoch 181/250\n",
      "187/187 [==============================] - 0s - loss: 1.3707 - acc: 0.2781     \n",
      "Epoch 182/250\n",
      "187/187 [==============================] - 0s - loss: 1.3707 - acc: 0.2781     \n",
      "Epoch 183/250\n",
      "187/187 [==============================] - 0s - loss: 1.3707 - acc: 0.2781     \n",
      "Epoch 184/250\n",
      "187/187 [==============================] - 0s - loss: 1.3707 - acc: 0.2781     \n",
      "Epoch 185/250\n",
      "187/187 [==============================] - 0s - loss: 1.3707 - acc: 0.2781     \n",
      "Epoch 186/250\n",
      "187/187 [==============================] - 0s - loss: 1.3707 - acc: 0.2781     \n",
      "Epoch 187/250\n",
      "187/187 [==============================] - 0s - loss: 1.3707 - acc: 0.2781     \n",
      "Epoch 188/250\n",
      "187/187 [==============================] - 0s - loss: 1.3707 - acc: 0.2781     \n",
      "Epoch 189/250\n",
      "187/187 [==============================] - 0s - loss: 1.3707 - acc: 0.2781     \n",
      "Epoch 190/250\n",
      "187/187 [==============================] - 0s - loss: 1.3707 - acc: 0.2781     \n",
      "Epoch 191/250\n",
      "187/187 [==============================] - 0s - loss: 1.3707 - acc: 0.2781     \n",
      "Epoch 192/250\n",
      "187/187 [==============================] - 0s - loss: 1.3707 - acc: 0.2781     \n",
      "Epoch 193/250\n",
      "187/187 [==============================] - 0s - loss: 1.3707 - acc: 0.2781     \n",
      "Epoch 194/250\n",
      "187/187 [==============================] - 0s - loss: 1.3707 - acc: 0.2781     \n",
      "Epoch 195/250\n",
      "187/187 [==============================] - 0s - loss: 1.3707 - acc: 0.2781     \n",
      "Epoch 196/250\n",
      "187/187 [==============================] - 0s - loss: 1.3707 - acc: 0.2781     \n",
      "Epoch 197/250\n",
      "187/187 [==============================] - 0s - loss: 1.3707 - acc: 0.2781     \n",
      "Epoch 198/250\n",
      "187/187 [==============================] - 0s - loss: 1.3707 - acc: 0.2781     \n",
      "Epoch 199/250\n",
      "187/187 [==============================] - 0s - loss: 1.3707 - acc: 0.2781     \n",
      "Epoch 200/250\n",
      "187/187 [==============================] - 0s - loss: 1.3707 - acc: 0.2781     \n",
      "Epoch 201/250\n",
      "187/187 [==============================] - 0s - loss: 1.3707 - acc: 0.2781     \n",
      "Epoch 202/250\n",
      "187/187 [==============================] - 0s - loss: 1.3707 - acc: 0.2781     \n",
      "Epoch 203/250\n",
      "187/187 [==============================] - 0s - loss: 1.3707 - acc: 0.2781     \n",
      "Epoch 204/250\n",
      "187/187 [==============================] - 0s - loss: 1.3707 - acc: 0.2781     \n",
      "Epoch 205/250\n",
      "187/187 [==============================] - 0s - loss: 1.3706 - acc: 0.2781     \n",
      "Epoch 206/250\n",
      "187/187 [==============================] - 0s - loss: 1.3707 - acc: 0.2781     \n",
      "Epoch 207/250\n",
      "187/187 [==============================] - 0s - loss: 1.3706 - acc: 0.2781     \n",
      "Epoch 208/250\n",
      "187/187 [==============================] - 0s - loss: 1.3707 - acc: 0.2781     \n",
      "Epoch 209/250\n",
      "187/187 [==============================] - 0s - loss: 1.3706 - acc: 0.2781     \n",
      "Epoch 210/250\n",
      "187/187 [==============================] - 0s - loss: 1.3706 - acc: 0.2781     \n",
      "Epoch 211/250\n",
      "187/187 [==============================] - 0s - loss: 1.3706 - acc: 0.2781     \n",
      "Epoch 212/250\n",
      "187/187 [==============================] - 0s - loss: 1.3707 - acc: 0.2781     \n",
      "Epoch 213/250\n",
      "187/187 [==============================] - 0s - loss: 1.3707 - acc: 0.2781     \n",
      "Epoch 214/250\n",
      "187/187 [==============================] - 0s - loss: 1.3706 - acc: 0.2781     \n",
      "Epoch 215/250\n",
      "187/187 [==============================] - 0s - loss: 1.3706 - acc: 0.2781     \n",
      "Epoch 216/250\n",
      "187/187 [==============================] - 0s - loss: 1.3706 - acc: 0.2781     \n",
      "Epoch 217/250\n",
      "187/187 [==============================] - 0s - loss: 1.3706 - acc: 0.2781     \n",
      "Epoch 218/250\n",
      "187/187 [==============================] - 0s - loss: 1.3706 - acc: 0.2781     \n",
      "Epoch 219/250\n",
      "187/187 [==============================] - 0s - loss: 1.3706 - acc: 0.2781     \n",
      "Epoch 220/250\n",
      "187/187 [==============================] - 0s - loss: 1.3706 - acc: 0.2781     \n",
      "Epoch 221/250\n",
      "187/187 [==============================] - 0s - loss: 1.3706 - acc: 0.2781     \n",
      "Epoch 222/250\n",
      "187/187 [==============================] - 0s - loss: 1.3706 - acc: 0.2781     \n",
      "Epoch 223/250\n",
      "187/187 [==============================] - 0s - loss: 1.3706 - acc: 0.2781     \n",
      "Epoch 224/250\n",
      "187/187 [==============================] - 0s - loss: 1.3706 - acc: 0.2781     \n",
      "Epoch 225/250\n",
      "187/187 [==============================] - 0s - loss: 1.3706 - acc: 0.2781     \n",
      "Epoch 226/250\n",
      "187/187 [==============================] - 0s - loss: 1.3706 - acc: 0.2781     \n",
      "Epoch 227/250\n",
      "187/187 [==============================] - 0s - loss: 1.3706 - acc: 0.2781     \n",
      "Epoch 228/250\n",
      "187/187 [==============================] - 0s - loss: 1.3706 - acc: 0.2781     \n",
      "Epoch 229/250\n",
      "187/187 [==============================] - 0s - loss: 1.3706 - acc: 0.2781     \n",
      "Epoch 230/250\n",
      "187/187 [==============================] - 0s - loss: 1.3706 - acc: 0.2781     \n",
      "Epoch 231/250\n",
      "187/187 [==============================] - 0s - loss: 1.3706 - acc: 0.2781     \n",
      "Epoch 232/250\n",
      "187/187 [==============================] - 0s - loss: 1.3706 - acc: 0.2781     \n",
      "Epoch 233/250\n",
      "187/187 [==============================] - 0s - loss: 1.3706 - acc: 0.2781     \n",
      "Epoch 234/250\n",
      "187/187 [==============================] - 0s - loss: 1.3706 - acc: 0.2781     \n",
      "Epoch 235/250\n",
      "187/187 [==============================] - 0s - loss: 1.3706 - acc: 0.2781     \n",
      "Epoch 236/250\n",
      "187/187 [==============================] - 0s - loss: 1.3706 - acc: 0.2781     \n",
      "Epoch 237/250\n",
      "187/187 [==============================] - 0s - loss: 1.3706 - acc: 0.2781     \n",
      "Epoch 238/250\n",
      "187/187 [==============================] - 0s - loss: 1.3706 - acc: 0.2781     \n",
      "Epoch 239/250\n",
      "187/187 [==============================] - 0s - loss: 1.3706 - acc: 0.2781     \n",
      "Epoch 240/250\n",
      "187/187 [==============================] - 0s - loss: 1.3706 - acc: 0.2781     \n",
      "Epoch 241/250\n",
      "187/187 [==============================] - 0s - loss: 1.3706 - acc: 0.2781     \n",
      "Epoch 242/250\n",
      "187/187 [==============================] - 0s - loss: 1.3706 - acc: 0.2781     \n",
      "Epoch 243/250\n",
      "187/187 [==============================] - 0s - loss: 1.3706 - acc: 0.2781     \n",
      "Epoch 244/250\n",
      "187/187 [==============================] - 0s - loss: 1.3705 - acc: 0.2781     \n",
      "Epoch 245/250\n",
      "187/187 [==============================] - 0s - loss: 1.3705 - acc: 0.2781     \n",
      "Epoch 246/250\n",
      "187/187 [==============================] - 0s - loss: 1.3705 - acc: 0.2781     \n",
      "Epoch 247/250\n",
      "187/187 [==============================] - 0s - loss: 1.3705 - acc: 0.2781     \n",
      "Epoch 248/250\n",
      "187/187 [==============================] - 0s - loss: 1.3705 - acc: 0.2781     \n",
      "Epoch 249/250\n",
      "187/187 [==============================] - 0s - loss: 1.3705 - acc: 0.2781     \n",
      "Epoch 250/250\n",
      "187/187 [==============================] - 0s - loss: 1.3705 - acc: 0.2781     \n",
      "[[ 0  0 21  0]\n",
      " [ 0  0 15  0]\n",
      " [ 0  0 14  0]\n",
      " [ 0  0 13  0]]\n",
      "0.0909090909091\n"
     ]
    },
    {
     "name": "stderr",
     "output_type": "stream",
     "text": [
      "/Users/daniel/prog/data-science/venv/lib/python3.5/site-packages/sklearn/metrics/classification.py:1113: UndefinedMetricWarning: F-score is ill-defined and being set to 0.0 in labels with no predicted samples.\n",
      "  'precision', 'predicted', average, warn_for)\n"
     ]
    }
   ],
   "source": [
    "train_and_eval(\"simple\")"
   ]
  },
  {
   "cell_type": "code",
   "execution_count": null,
   "metadata": {
    "collapsed": false,
    "scrolled": false
   },
   "outputs": [
    {
     "name": "stdout",
     "output_type": "stream",
     "text": [
      "Evaluating LSTM\n",
      "Epoch 1/250\n",
      "187/187 [==============================] - 1s - loss: 1.3937 - acc: 0.1551     \n",
      "Epoch 2/250\n",
      "187/187 [==============================] - 0s - loss: 1.3899 - acc: 0.3048     \n",
      "Epoch 3/250\n",
      "187/187 [==============================] - 0s - loss: 1.3871 - acc: 0.3155     \n",
      "Epoch 4/250\n",
      "187/187 [==============================] - 0s - loss: 1.3843 - acc: 0.3369     \n",
      "Epoch 5/250\n",
      "187/187 [==============================] - 0s - loss: 1.3825 - acc: 0.3155     \n",
      "Epoch 6/250\n",
      "187/187 [==============================] - 0s - loss: 1.3804 - acc: 0.3316     \n",
      "Epoch 7/250\n",
      "187/187 [==============================] - 0s - loss: 1.3790 - acc: 0.2727     \n",
      "Epoch 8/250\n",
      "187/187 [==============================] - 0s - loss: 1.3773 - acc: 0.2727     \n",
      "Epoch 9/250\n",
      "187/187 [==============================] - 0s - loss: 1.3762 - acc: 0.2727     \n",
      "Epoch 10/250\n",
      "187/187 [==============================] - 0s - loss: 1.3747 - acc: 0.2727     \n",
      "Epoch 11/250\n",
      "187/187 [==============================] - 0s - loss: 1.3740 - acc: 0.2727     \n",
      "Epoch 12/250\n",
      "187/187 [==============================] - 0s - loss: 1.3728 - acc: 0.2727     \n",
      "Epoch 13/250\n",
      "187/187 [==============================] - 0s - loss: 1.3722 - acc: 0.2727     \n",
      "Epoch 14/250\n",
      "187/187 [==============================] - 0s - loss: 1.3714 - acc: 0.2727     \n",
      "Epoch 15/250\n",
      "187/187 [==============================] - 0s - loss: 1.3703 - acc: 0.2727     \n",
      "Epoch 16/250\n",
      "187/187 [==============================] - 0s - loss: 1.3699 - acc: 0.2727     \n",
      "Epoch 17/250\n",
      "187/187 [==============================] - 0s - loss: 1.3692 - acc: 0.2727     \n",
      "Epoch 18/250\n",
      "187/187 [==============================] - 0s - loss: 1.3688 - acc: 0.2727     \n",
      "Epoch 19/250\n",
      "187/187 [==============================] - 0s - loss: 1.3680 - acc: 0.2727     \n",
      "Epoch 20/250\n",
      "187/187 [==============================] - 0s - loss: 1.3676 - acc: 0.2727     \n",
      "Epoch 21/250\n",
      "187/187 [==============================] - 0s - loss: 1.3671 - acc: 0.2727     \n",
      "Epoch 22/250\n",
      "187/187 [==============================] - 0s - loss: 1.3665 - acc: 0.2727     \n",
      "Epoch 23/250\n",
      "187/187 [==============================] - 0s - loss: 1.3660 - acc: 0.3476     \n",
      "Epoch 24/250\n",
      "187/187 [==============================] - 0s - loss: 1.3656 - acc: 0.3476     \n",
      "Epoch 25/250\n",
      "187/187 [==============================] - 0s - loss: 1.3653 - acc: 0.3636     \n",
      "Epoch 26/250\n",
      "187/187 [==============================] - 0s - loss: 1.3647 - acc: 0.3797     \n",
      "Epoch 27/250\n",
      "187/187 [==============================] - 0s - loss: 1.3645 - acc: 0.3797     \n",
      "Epoch 28/250\n",
      "187/187 [==============================] - 0s - loss: 1.3640 - acc: 0.3797     \n",
      "Epoch 29/250\n",
      "187/187 [==============================] - 0s - loss: 1.3635 - acc: 0.3904     \n",
      "Epoch 30/250\n",
      "187/187 [==============================] - 0s - loss: 1.3631 - acc: 0.3583     \n",
      "Epoch 31/250\n",
      "187/187 [==============================] - 0s - loss: 1.3627 - acc: 0.3583     \n",
      "Epoch 32/250\n",
      "187/187 [==============================] - 0s - loss: 1.3623 - acc: 0.3583     \n",
      "Epoch 33/250\n",
      "187/187 [==============================] - 0s - loss: 1.3618 - acc: 0.3583     \n",
      "Epoch 34/250\n",
      "187/187 [==============================] - 0s - loss: 1.3615 - acc: 0.3583     \n",
      "Epoch 35/250\n",
      "187/187 [==============================] - 0s - loss: 1.3609 - acc: 0.3583     \n",
      "Epoch 36/250\n",
      "187/187 [==============================] - 0s - loss: 1.3605 - acc: 0.3583     \n",
      "Epoch 37/250\n",
      "187/187 [==============================] - 0s - loss: 1.3600 - acc: 0.3583     \n",
      "Epoch 38/250\n",
      "187/187 [==============================] - 0s - loss: 1.3597 - acc: 0.3583     \n",
      "Epoch 39/250\n",
      "187/187 [==============================] - 0s - loss: 1.3587 - acc: 0.3583     \n",
      "Epoch 40/250\n",
      "187/187 [==============================] - 0s - loss: 1.3577 - acc: 0.3583     \n",
      "Epoch 41/250\n",
      "187/187 [==============================] - 0s - loss: 1.3564 - acc: 0.3583     \n",
      "Epoch 42/250\n",
      "187/187 [==============================] - 0s - loss: 1.3548 - acc: 0.3850     \n",
      "Epoch 43/250\n",
      "187/187 [==============================] - 0s - loss: 1.3532 - acc: 0.4118     \n",
      "Epoch 44/250\n",
      "187/187 [==============================] - 0s - loss: 1.3529 - acc: 0.3797     \n",
      "Epoch 45/250\n",
      "187/187 [==============================] - 0s - loss: 1.3522 - acc: 0.3797     \n",
      "Epoch 46/250\n",
      "187/187 [==============================] - 0s - loss: 1.3513 - acc: 0.3797     \n",
      "Epoch 47/250\n",
      "187/187 [==============================] - 0s - loss: 1.3506 - acc: 0.3797     \n",
      "Epoch 48/250\n",
      "187/187 [==============================] - 0s - loss: 1.3497 - acc: 0.3797     \n",
      "Epoch 49/250\n",
      "187/187 [==============================] - 0s - loss: 1.3489 - acc: 0.3797     \n",
      "Epoch 50/250\n",
      "187/187 [==============================] - 0s - loss: 1.3480 - acc: 0.3797     \n",
      "Epoch 51/250\n",
      "187/187 [==============================] - 0s - loss: 1.3472 - acc: 0.3797     \n",
      "Epoch 52/250\n",
      "187/187 [==============================] - 0s - loss: 1.3462 - acc: 0.3797     \n",
      "Epoch 53/250\n",
      "187/187 [==============================] - 0s - loss: 1.3454 - acc: 0.4118     \n",
      "Epoch 54/250\n",
      "187/187 [==============================] - 0s - loss: 1.3443 - acc: 0.4118     \n",
      "Epoch 55/250\n",
      "187/187 [==============================] - 0s - loss: 1.3433 - acc: 0.4118     \n",
      "Epoch 56/250\n",
      "187/187 [==============================] - 0s - loss: 1.3424 - acc: 0.4118     \n",
      "Epoch 57/250\n",
      "187/187 [==============================] - 0s - loss: 1.3413 - acc: 0.4118     \n",
      "Epoch 58/250\n",
      "187/187 [==============================] - 0s - loss: 1.3402 - acc: 0.4118     \n",
      "Epoch 59/250\n",
      "187/187 [==============================] - 0s - loss: 1.3391 - acc: 0.4118     \n",
      "Epoch 60/250\n",
      "187/187 [==============================] - 0s - loss: 1.3380 - acc: 0.4118     \n",
      "Epoch 61/250\n",
      "187/187 [==============================] - 0s - loss: 1.3370 - acc: 0.4118     \n",
      "Epoch 62/250\n",
      "187/187 [==============================] - 0s - loss: 1.3356 - acc: 0.4118     \n",
      "Epoch 63/250\n",
      "187/187 [==============================] - 0s - loss: 1.3345 - acc: 0.4118     \n",
      "Epoch 64/250\n",
      "187/187 [==============================] - 0s - loss: 1.3331 - acc: 0.4118     \n",
      "Epoch 65/250\n",
      "187/187 [==============================] - 0s - loss: 1.3317 - acc: 0.4118     \n",
      "Epoch 66/250\n",
      "187/187 [==============================] - 0s - loss: 1.3292 - acc: 0.4118     \n",
      "Epoch 67/250\n",
      "187/187 [==============================] - 0s - loss: 1.3273 - acc: 0.3797     \n",
      "Epoch 68/250\n",
      "187/187 [==============================] - 0s - loss: 1.3256 - acc: 0.3797     \n",
      "Epoch 69/250\n",
      "187/187 [==============================] - 0s - loss: 1.3241 - acc: 0.3797     \n",
      "Epoch 70/250\n",
      "187/187 [==============================] - 0s - loss: 1.3224 - acc: 0.3797     \n",
      "Epoch 71/250\n",
      "187/187 [==============================] - 0s - loss: 1.3203 - acc: 0.3797     \n",
      "Epoch 72/250\n",
      "187/187 [==============================] - 0s - loss: 1.3189 - acc: 0.4118     \n",
      "Epoch 73/250\n",
      "187/187 [==============================] - 0s - loss: 1.3168 - acc: 0.4118     \n",
      "Epoch 74/250\n",
      "187/187 [==============================] - 0s - loss: 1.3157 - acc: 0.4118     \n",
      "Epoch 75/250\n",
      "187/187 [==============================] - 0s - loss: 1.3129 - acc: 0.4118     \n",
      "Epoch 76/250\n",
      "187/187 [==============================] - 0s - loss: 1.3109 - acc: 0.4118     \n",
      "Epoch 77/250\n",
      "187/187 [==============================] - 0s - loss: 1.3087 - acc: 0.4118     \n",
      "Epoch 78/250\n",
      "187/187 [==============================] - 0s - loss: 1.3075 - acc: 0.4118     \n",
      "Epoch 79/250\n",
      "187/187 [==============================] - 0s - loss: 1.3054 - acc: 0.3957     \n",
      "Epoch 80/250\n",
      "187/187 [==============================] - 0s - loss: 1.3027 - acc: 0.3904     \n",
      "Epoch 81/250\n",
      "187/187 [==============================] - 0s - loss: 1.3002 - acc: 0.4118     \n",
      "Epoch 82/250\n",
      "187/187 [==============================] - 0s - loss: 1.2979 - acc: 0.4118     \n",
      "Epoch 83/250\n",
      "187/187 [==============================] - 0s - loss: 1.2962 - acc: 0.4118     \n",
      "Epoch 84/250\n",
      "187/187 [==============================] - 0s - loss: 1.2927 - acc: 0.4118     \n",
      "Epoch 85/250\n",
      "187/187 [==============================] - 0s - loss: 1.2903 - acc: 0.4278     \n",
      "Epoch 86/250\n",
      "187/187 [==============================] - 0s - loss: 1.2859 - acc: 0.4118     \n",
      "Epoch 87/250\n",
      "187/187 [==============================] - 0s - loss: 1.2808 - acc: 0.4118     \n",
      "Epoch 88/250\n",
      "187/187 [==============================] - 0s - loss: 1.2787 - acc: 0.3797     \n",
      "Epoch 89/250\n",
      "187/187 [==============================] - 0s - loss: 1.2722 - acc: 0.3797     \n",
      "Epoch 90/250\n",
      "187/187 [==============================] - 0s - loss: 1.2675 - acc: 0.4332     \n",
      "Epoch 91/250\n",
      "187/187 [==============================] - 0s - loss: 1.2630 - acc: 0.4599     \n",
      "Epoch 92/250\n",
      "187/187 [==============================] - 0s - loss: 1.2599 - acc: 0.4599     \n",
      "Epoch 93/250\n",
      "187/187 [==============================] - 0s - loss: 1.2546 - acc: 0.4118     \n",
      "Epoch 94/250\n",
      "187/187 [==============================] - 0s - loss: 1.2509 - acc: 0.4225     \n",
      "Epoch 95/250\n",
      "187/187 [==============================] - 0s - loss: 1.2461 - acc: 0.4599     \n",
      "Epoch 96/250\n",
      "187/187 [==============================] - 0s - loss: 1.2476 - acc: 0.4599     \n",
      "Epoch 97/250\n",
      "187/187 [==============================] - 0s - loss: 1.2408 - acc: 0.4492     \n",
      "Epoch 98/250\n",
      "187/187 [==============================] - 0s - loss: 1.2351 - acc: 0.4118     \n",
      "Epoch 99/250\n",
      "187/187 [==============================] - 0s - loss: 1.2310 - acc: 0.4599     \n",
      "Epoch 100/250\n",
      "187/187 [==============================] - 0s - loss: 1.2265 - acc: 0.4599     \n",
      "Epoch 101/250\n",
      "187/187 [==============================] - 0s - loss: 1.2213 - acc: 0.4599     \n",
      "Epoch 102/250\n",
      "187/187 [==============================] - 0s - loss: 1.2164 - acc: 0.4599     \n",
      "Epoch 103/250\n",
      "187/187 [==============================] - 0s - loss: 1.2123 - acc: 0.4599     \n",
      "Epoch 104/250\n",
      "187/187 [==============================] - 0s - loss: 1.2110 - acc: 0.4599     \n",
      "Epoch 105/250\n",
      "187/187 [==============================] - 0s - loss: 1.2064 - acc: 0.4599     \n",
      "Epoch 106/250\n",
      "187/187 [==============================] - 0s - loss: 1.1965 - acc: 0.4599     \n",
      "Epoch 107/250\n",
      "187/187 [==============================] - 0s - loss: 1.1913 - acc: 0.4599     \n",
      "Epoch 108/250\n",
      "187/187 [==============================] - 0s - loss: 1.1860 - acc: 0.4599     \n",
      "Epoch 109/250\n",
      "187/187 [==============================] - 0s - loss: 1.1801 - acc: 0.4599     \n",
      "Epoch 110/250\n",
      "187/187 [==============================] - 0s - loss: 1.1846 - acc: 0.4599     \n",
      "Epoch 111/250\n",
      "187/187 [==============================] - 0s - loss: 1.1729 - acc: 0.4759     \n",
      "Epoch 112/250\n",
      "187/187 [==============================] - 0s - loss: 1.1718 - acc: 0.5080     \n",
      "Epoch 113/250\n",
      "187/187 [==============================] - 0s - loss: 1.1733 - acc: 0.4439     \n",
      "Epoch 114/250\n",
      "187/187 [==============================] - 0s - loss: 1.1651 - acc: 0.4599     \n",
      "Epoch 115/250\n",
      "187/187 [==============================] - 0s - loss: 1.1606 - acc: 0.5080     \n",
      "Epoch 116/250\n",
      "187/187 [==============================] - 0s - loss: 1.1513 - acc: 0.4813     \n",
      "Epoch 117/250\n",
      "187/187 [==============================] - 0s - loss: 1.1561 - acc: 0.4599     \n",
      "Epoch 118/250\n",
      "187/187 [==============================] - 0s - loss: 1.1567 - acc: 0.4759     \n",
      "Epoch 119/250\n",
      "187/187 [==============================] - 0s - loss: 1.1523 - acc: 0.5080     \n",
      "Epoch 120/250\n",
      "187/187 [==============================] - 0s - loss: 1.1567 - acc: 0.4759     \n",
      "Epoch 121/250\n",
      "187/187 [==============================] - 0s - loss: 1.1443 - acc: 0.4599     \n",
      "Epoch 122/250\n",
      "187/187 [==============================] - 0s - loss: 1.1379 - acc: 0.5080     \n",
      "Epoch 123/250\n",
      "187/187 [==============================] - 0s - loss: 1.1416 - acc: 0.5080     \n",
      "Epoch 124/250\n",
      "187/187 [==============================] - 0s - loss: 1.1297 - acc: 0.4920     \n",
      "Epoch 125/250\n",
      "187/187 [==============================] - 0s - loss: 1.1291 - acc: 0.4599     \n",
      "Epoch 126/250\n",
      "187/187 [==============================] - 0s - loss: 1.1187 - acc: 0.4813     \n",
      "Epoch 127/250\n",
      "187/187 [==============================] - 0s - loss: 1.1203 - acc: 0.5080     \n",
      "Epoch 128/250\n",
      "187/187 [==============================] - 0s - loss: 1.1193 - acc: 0.4813     \n",
      "Epoch 129/250\n",
      "187/187 [==============================] - 0s - loss: 1.1129 - acc: 0.4599     \n",
      "Epoch 130/250\n",
      "187/187 [==============================] - 0s - loss: 1.1061 - acc: 0.5080     \n",
      "Epoch 131/250\n",
      "187/187 [==============================] - 0s - loss: 1.1064 - acc: 0.5080     \n",
      "Epoch 132/250\n",
      "187/187 [==============================] - 0s - loss: 1.1081 - acc: 0.4813     \n",
      "Epoch 133/250\n",
      "187/187 [==============================] - 0s - loss: 1.0985 - acc: 0.4706     \n",
      "Epoch 134/250\n",
      "187/187 [==============================] - 0s - loss: 1.0971 - acc: 0.5080     \n",
      "Epoch 135/250\n",
      "187/187 [==============================] - 0s - loss: 1.0939 - acc: 0.5080     \n",
      "Epoch 136/250\n",
      "187/187 [==============================] - 0s - loss: 1.0884 - acc: 0.4599     \n",
      "Epoch 137/250\n",
      "187/187 [==============================] - 0s - loss: 1.0821 - acc: 0.5080     \n",
      "Epoch 138/250\n",
      "187/187 [==============================] - 0s - loss: 1.0825 - acc: 0.5080     \n",
      "Epoch 139/250\n",
      "187/187 [==============================] - 0s - loss: 1.0738 - acc: 0.5080     \n",
      "Epoch 140/250\n",
      "187/187 [==============================] - 0s - loss: 1.0737 - acc: 0.4759     \n",
      "Epoch 141/250\n",
      "187/187 [==============================] - 0s - loss: 1.0666 - acc: 0.5080     \n",
      "Epoch 142/250\n",
      "187/187 [==============================] - 0s - loss: 1.0643 - acc: 0.5080     \n",
      "Epoch 143/250\n",
      "187/187 [==============================] - 0s - loss: 1.0584 - acc: 0.5080     \n",
      "Epoch 144/250\n",
      "187/187 [==============================] - 0s - loss: 1.0566 - acc: 0.5080     \n",
      "Epoch 145/250\n",
      "187/187 [==============================] - 0s - loss: 1.0494 - acc: 0.5080     \n",
      "Epoch 146/250\n",
      "187/187 [==============================] - 0s - loss: 1.0519 - acc: 0.5080     \n",
      "Epoch 147/250\n",
      "187/187 [==============================] - 0s - loss: 1.0413 - acc: 0.5080     \n",
      "Epoch 148/250\n",
      "187/187 [==============================] - 0s - loss: 1.0425 - acc: 0.5080     \n",
      "Epoch 149/250\n",
      "187/187 [==============================] - 0s - loss: 1.0402 - acc: 0.5080     \n",
      "Epoch 150/250\n",
      "187/187 [==============================] - 0s - loss: 1.0310 - acc: 0.5080     \n",
      "Epoch 151/250\n",
      "187/187 [==============================] - 0s - loss: 1.0391 - acc: 0.4599     \n",
      "Epoch 152/250\n",
      "187/187 [==============================] - 0s - loss: 1.0268 - acc: 0.5080     \n",
      "Epoch 153/250\n",
      "187/187 [==============================] - 0s - loss: 1.0238 - acc: 0.5080     \n",
      "Epoch 154/250\n",
      "187/187 [==============================] - 0s - loss: 1.0226 - acc: 0.5080     \n",
      "Epoch 155/250\n",
      "187/187 [==============================] - 0s - loss: 1.0200 - acc: 0.5080     \n",
      "Epoch 156/250\n",
      "187/187 [==============================] - 0s - loss: 1.0158 - acc: 0.5080     \n",
      "Epoch 157/250\n",
      "187/187 [==============================] - 0s - loss: 1.0116 - acc: 0.5080     \n",
      "Epoch 158/250\n",
      "187/187 [==============================] - 0s - loss: 1.0129 - acc: 0.5080     \n",
      "Epoch 159/250\n",
      "187/187 [==============================] - 0s - loss: 1.0087 - acc: 0.5134     \n",
      "Epoch 160/250\n",
      "187/187 [==============================] - 0s - loss: 1.0032 - acc: 0.5080     \n",
      "Epoch 161/250\n",
      "187/187 [==============================] - 0s - loss: 1.0078 - acc: 0.5080     \n",
      "Epoch 162/250\n",
      "187/187 [==============================] - 0s - loss: 1.0058 - acc: 0.5134     \n",
      "Epoch 163/250\n",
      "187/187 [==============================] - 0s - loss: 0.9963 - acc: 0.4973     \n",
      "Epoch 164/250\n",
      "187/187 [==============================] - 0s - loss: 1.0051 - acc: 0.5348     \n",
      "Epoch 165/250\n",
      "187/187 [==============================] - 0s - loss: 0.9898 - acc: 0.5027     \n",
      "Epoch 166/250\n",
      "187/187 [==============================] - 0s - loss: 1.0053 - acc: 0.4973     \n",
      "Epoch 167/250\n",
      "187/187 [==============================] - 0s - loss: 0.9872 - acc: 0.5080     \n",
      "Epoch 168/250\n",
      "187/187 [==============================] - 0s - loss: 0.9899 - acc: 0.5294     \n",
      "Epoch 169/250\n",
      "187/187 [==============================] - 0s - loss: 0.9905 - acc: 0.4973     \n",
      "Epoch 170/250\n",
      "187/187 [==============================] - 0s - loss: 0.9887 - acc: 0.4973     \n",
      "Epoch 171/250\n",
      "187/187 [==============================] - 0s - loss: 0.9849 - acc: 0.5294     \n",
      "Epoch 172/250\n",
      "187/187 [==============================] - 0s - loss: 0.9789 - acc: 0.4973     \n",
      "Epoch 173/250\n",
      "187/187 [==============================] - 0s - loss: 0.9768 - acc: 0.4973     \n",
      "Epoch 174/250\n",
      "187/187 [==============================] - 0s - loss: 0.9787 - acc: 0.5134     \n",
      "Epoch 175/250\n",
      "187/187 [==============================] - 0s - loss: 0.9748 - acc: 0.4973     \n",
      "Epoch 176/250\n",
      "187/187 [==============================] - 0s - loss: 0.9739 - acc: 0.4973     \n",
      "Epoch 177/250\n",
      "187/187 [==============================] - 0s - loss: 0.9729 - acc: 0.5401     \n",
      "Epoch 178/250\n",
      "187/187 [==============================] - 0s - loss: 0.9740 - acc: 0.4973     \n",
      "Epoch 179/250\n",
      "187/187 [==============================] - 0s - loss: 0.9668 - acc: 0.4973     \n",
      "Epoch 180/250\n",
      "187/187 [==============================] - 0s - loss: 0.9695 - acc: 0.5508     \n",
      "Epoch 181/250\n",
      "187/187 [==============================] - 0s - loss: 0.9614 - acc: 0.4973     \n",
      "Epoch 182/250\n",
      "187/187 [==============================] - 0s - loss: 0.9691 - acc: 0.4973     \n",
      "Epoch 183/250\n",
      "187/187 [==============================] - 0s - loss: 0.9566 - acc: 0.4973     \n",
      "Epoch 184/250\n",
      "187/187 [==============================] - 0s - loss: 0.9661 - acc: 0.5508     \n",
      "Epoch 185/250\n",
      "187/187 [==============================] - 0s - loss: 0.9623 - acc: 0.4973     \n",
      "Epoch 186/250\n",
      "187/187 [==============================] - 0s - loss: 0.9613 - acc: 0.4973     \n",
      "Epoch 187/250\n",
      "187/187 [==============================] - 0s - loss: 0.9573 - acc: 0.5401     \n",
      "Epoch 188/250\n",
      "187/187 [==============================] - 0s - loss: 0.9524 - acc: 0.5241     \n",
      "Epoch 189/250\n",
      "187/187 [==============================] - 0s - loss: 0.9549 - acc: 0.4973     \n",
      "Epoch 190/250\n",
      "187/187 [==============================] - 0s - loss: 0.9534 - acc: 0.5134     \n",
      "Epoch 191/250\n",
      "187/187 [==============================] - 0s - loss: 0.9548 - acc: 0.5187     \n",
      "Epoch 192/250\n",
      "187/187 [==============================] - 0s - loss: 0.9482 - acc: 0.4973     \n",
      "Epoch 193/250\n",
      "187/187 [==============================] - 0s - loss: 0.9490 - acc: 0.5294     \n",
      "Epoch 194/250\n",
      "187/187 [==============================] - 0s - loss: 0.9478 - acc: 0.5241     \n",
      "Epoch 195/250\n",
      "187/187 [==============================] - 0s - loss: 0.9426 - acc: 0.4973     \n",
      "Epoch 196/250\n",
      "100/187 [===============>..............] - ETA: 0s - loss: 0.9010 - acc: 0.5700"
     ]
    }
   ],
   "source": [
    "train_and_eval(\"LSTM\")"
   ]
  },
  {
   "cell_type": "code",
   "execution_count": null,
   "metadata": {
    "collapsed": true
   },
   "outputs": [],
   "source": []
  },
  {
   "cell_type": "code",
   "execution_count": null,
   "metadata": {
    "collapsed": true
   },
   "outputs": [],
   "source": []
  }
 ],
 "metadata": {
  "kernelspec": {
   "display_name": "Python 3",
   "language": "python",
   "name": "python3"
  },
  "language_info": {
   "codemirror_mode": {
    "name": "ipython",
    "version": 3
   },
   "file_extension": ".py",
   "mimetype": "text/x-python",
   "name": "python",
   "nbconvert_exporter": "python",
   "pygments_lexer": "ipython3",
   "version": "3.5.2"
  }
 },
 "nbformat": 4,
 "nbformat_minor": 1
}
